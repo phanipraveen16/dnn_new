{
 "cells": [
  {
   "cell_type": "markdown",
   "metadata": {},
   "source": [
    "## NNP Assignment(Name Prediction)"
   ]
  },
  {
   "cell_type": "markdown",
   "metadata": {},
   "source": [
    "### Importing necessary modules"
   ]
  },
  {
   "cell_type": "code",
   "execution_count": 2,
   "metadata": {},
   "outputs": [],
   "source": [
    "import pandas as pd\n",
    "import keras\n",
    "from keras.models import Sequential\n",
    "from keras.layers import Dense\n",
    "from keras.optimizers import RMSprop\n",
    "import numpy as np\n",
    "\n",
    "from sklearn.model_selection import train_test_split\n",
    "import matplotlib.pyplot as plt\n",
    "%matplotlib inline"
   ]
  },
  {
   "cell_type": "markdown",
   "metadata": {},
   "source": [
    "### Importing data"
   ]
  },
  {
   "cell_type": "code",
   "execution_count": 3,
   "metadata": {
    "collapsed": true
   },
   "outputs": [],
   "source": [
    "male_data = pd.read_csv(\"/home/user/Downloads/NNP Assignment/male.txt\",comment='#',names=['name','category'])\n",
    "female_data = pd.read_csv(\"/home/user/Downloads/NNP Assignment/female.txt\",comment='#',names=['name','category'])\n",
    "#pet_data = pd.read_csv(\"/home/user/Downloads/NNP Assignment/pet.txt\",sep='\\t+',comment='#',names=['name','category'])"
   ]
  },
  {
   "cell_type": "code",
   "execution_count": 4,
   "metadata": {},
   "outputs": [
    {
     "data": {
      "text/html": [
       "<div>\n",
       "<table border=\"1\" class=\"dataframe\">\n",
       "  <thead>\n",
       "    <tr style=\"text-align: right;\">\n",
       "      <th></th>\n",
       "      <th>name</th>\n",
       "      <th>category</th>\n",
       "    </tr>\n",
       "  </thead>\n",
       "  <tbody>\n",
       "    <tr>\n",
       "      <th>7939</th>\n",
       "      <td>Zolly</td>\n",
       "      <td>0</td>\n",
       "    </tr>\n",
       "    <tr>\n",
       "      <th>7940</th>\n",
       "      <td>Zorro</td>\n",
       "      <td>0</td>\n",
       "    </tr>\n",
       "    <tr>\n",
       "      <th>7941</th>\n",
       "      <td>Rahul</td>\n",
       "      <td>0</td>\n",
       "    </tr>\n",
       "    <tr>\n",
       "      <th>7942</th>\n",
       "      <td>Shumeet</td>\n",
       "      <td>0</td>\n",
       "    </tr>\n",
       "    <tr>\n",
       "      <th>7943</th>\n",
       "      <td>Vibhu</td>\n",
       "      <td>0</td>\n",
       "    </tr>\n",
       "  </tbody>\n",
       "</table>\n",
       "</div>"
      ],
      "text/plain": [
       "         name  category\n",
       "7939    Zolly         0\n",
       "7940    Zorro         0\n",
       "7941    Rahul         0\n",
       "7942  Shumeet         0\n",
       "7943    Vibhu         0"
      ]
     },
     "execution_count": 4,
     "metadata": {},
     "output_type": "execute_result"
    }
   ],
   "source": [
    "male_data['category'] = 0  # zero for male\n",
    "female_data['category'] = 1 # one for female\n",
    "data = female_data.append(male_data)\n",
    "name_gender_data =data.reset_index(drop=True)\n",
    "name_gender_data.tail()"
   ]
  },
  {
   "cell_type": "markdown",
   "metadata": {},
   "source": [
    "### Maximum character in a name fn()"
   ]
  },
  {
   "cell_type": "code",
   "execution_count": 5,
   "metadata": {},
   "outputs": [
    {
     "data": {
      "text/plain": [
       "15"
      ]
     },
     "execution_count": 5,
     "metadata": {},
     "output_type": "execute_result"
    }
   ],
   "source": [
    "def name_length_max():\n",
    "    z=0\n",
    "    for i in name_gender_data['name']:\n",
    "        leng = len(i)\n",
    "        if z  < leng:\n",
    "            z=leng\n",
    "    return z\n",
    "    \n",
    "name_length_max()"
   ]
  },
  {
   "cell_type": "markdown",
   "metadata": {},
   "source": [
    "### conversion of name to ascii values"
   ]
  },
  {
   "cell_type": "code",
   "execution_count": 6,
   "metadata": {},
   "outputs": [],
   "source": [
    "def names_ascii():\n",
    "    s = []\n",
    "    for i in name_gender_data['name']:\n",
    "        a= []\n",
    "        for k in range(name_length_max()):\n",
    "            if k < len(i):\n",
    "                a.append((ord(i[k].lower())-97)/26)\n",
    "            else:\n",
    "                a.append(0)\n",
    "        s.append(a)\n",
    "    return s\n",
    "x = names_ascii()"
   ]
  },
  {
   "cell_type": "markdown",
   "metadata": {
    "collapsed": true
   },
   "source": [
    "### Train and Test data"
   ]
  },
  {
   "cell_type": "code",
   "execution_count": 7,
   "metadata": {
    "collapsed": true
   },
   "outputs": [],
   "source": [
    "x_train, x_test, y_train, y_test = train_test_split(x,name_gender_data['category'], test_size=0.20, random_state=30)"
   ]
  },
  {
   "cell_type": "code",
   "execution_count": 8,
   "metadata": {},
   "outputs": [
    {
     "data": {
      "text/plain": [
       "7685    0\n",
       "4778    1\n",
       "6713    0\n",
       "7261    0\n",
       "2769    1\n",
       "Name: category, dtype: int64"
      ]
     },
     "execution_count": 8,
     "metadata": {},
     "output_type": "execute_result"
    }
   ],
   "source": [
    "y_test.head()"
   ]
  },
  {
   "cell_type": "code",
   "execution_count": 9,
   "metadata": {},
   "outputs": [],
   "source": [
    "batch_size = 128\n",
    "num_classes = y_train.nunique()\n",
    "epochs = 50"
   ]
  },
  {
   "cell_type": "code",
   "execution_count": 10,
   "metadata": {},
   "outputs": [],
   "source": [
    "y_test_1 = y_test # for one dimensional data"
   ]
  },
  {
   "cell_type": "code",
   "execution_count": 11,
   "metadata": {},
   "outputs": [
    {
     "data": {
      "text/plain": [
       "array([0, 1, 0, ..., 1, 0, 0])"
      ]
     },
     "execution_count": 11,
     "metadata": {},
     "output_type": "execute_result"
    }
   ],
   "source": [
    "y_train = np.array(y_train)\n",
    "y_test = np.array(y_test)\n",
    "y_test"
   ]
  },
  {
   "cell_type": "code",
   "execution_count": 12,
   "metadata": {},
   "outputs": [
    {
     "data": {
      "text/plain": [
       "array([[ 0.,  1.],\n",
       "       [ 0.,  1.],\n",
       "       [ 0.,  1.],\n",
       "       ..., \n",
       "       [ 1.,  0.],\n",
       "       [ 0.,  1.],\n",
       "       [ 1.,  0.]])"
      ]
     },
     "execution_count": 12,
     "metadata": {},
     "output_type": "execute_result"
    }
   ],
   "source": [
    "y_train = keras.utils.to_categorical(y_train, num_classes)\n",
    "y_test = keras.utils.to_categorical(y_test, num_classes)\n",
    "y_train"
   ]
  },
  {
   "cell_type": "markdown",
   "metadata": {},
   "source": [
    "### MODEL-1\n",
    "ONE HIDDEN LAYER"
   ]
  },
  {
   "cell_type": "code",
   "execution_count": 13,
   "metadata": {
    "collapsed": true
   },
   "outputs": [],
   "source": [
    "model1 = Sequential()"
   ]
  },
  {
   "cell_type": "code",
   "execution_count": 14,
   "metadata": {
    "collapsed": true
   },
   "outputs": [],
   "source": [
    "model1.add(Dense(524, activation='relu', input_shape=(15,)))\n",
    "model1.add(Dense(524, activation='relu'))\n",
    "model1.add(Dense(2, activation='softmax'))"
   ]
  },
  {
   "cell_type": "code",
   "execution_count": 15,
   "metadata": {},
   "outputs": [
    {
     "name": "stdout",
     "output_type": "stream",
     "text": [
      "_________________________________________________________________\n",
      "Layer (type)                 Output Shape              Param #   \n",
      "=================================================================\n",
      "dense_1 (Dense)              (None, 524)               8384      \n",
      "_________________________________________________________________\n",
      "dense_2 (Dense)              (None, 524)               275100    \n",
      "_________________________________________________________________\n",
      "dense_3 (Dense)              (None, 2)                 1050      \n",
      "=================================================================\n",
      "Total params: 284,534\n",
      "Trainable params: 284,534\n",
      "Non-trainable params: 0\n",
      "_________________________________________________________________\n"
     ]
    }
   ],
   "source": [
    "model1.summary()"
   ]
  },
  {
   "cell_type": "code",
   "execution_count": 16,
   "metadata": {
    "collapsed": true
   },
   "outputs": [],
   "source": [
    "model1.compile(optimizer=RMSprop(),\n",
    "             loss='categorical_crossentropy',\n",
    "             metrics = ['accuracy'])"
   ]
  },
  {
   "cell_type": "code",
   "execution_count": 17,
   "metadata": {},
   "outputs": [
    {
     "name": "stdout",
     "output_type": "stream",
     "text": [
      "Train on 5084 samples, validate on 1271 samples\n",
      "Epoch 1/50\n",
      "5084/5084 [==============================] - 0s - loss: 0.6653 - acc: 0.6188 - val_loss: 0.6377 - val_acc: 0.6696\n",
      "Epoch 2/50\n",
      "5084/5084 [==============================] - 0s - loss: 0.6531 - acc: 0.6304 - val_loss: 0.6388 - val_acc: 0.6735\n",
      "Epoch 3/50\n",
      "5084/5084 [==============================] - 0s - loss: 0.6481 - acc: 0.6395 - val_loss: 0.6340 - val_acc: 0.6672\n",
      "Epoch 4/50\n",
      "5084/5084 [==============================] - 0s - loss: 0.6392 - acc: 0.6491 - val_loss: 0.6505 - val_acc: 0.6412\n",
      "Epoch 5/50\n",
      "5084/5084 [==============================] - 0s - loss: 0.6353 - acc: 0.6477 - val_loss: 0.6530 - val_acc: 0.6153\n",
      "Epoch 6/50\n",
      "5084/5084 [==============================] - 0s - loss: 0.6319 - acc: 0.6558 - val_loss: 0.6350 - val_acc: 0.6515\n",
      "Epoch 7/50\n",
      "5084/5084 [==============================] - 0s - loss: 0.6273 - acc: 0.6635 - val_loss: 0.6324 - val_acc: 0.6570\n",
      "Epoch 8/50\n",
      "5084/5084 [==============================] - 0s - loss: 0.6237 - acc: 0.6597 - val_loss: 0.6123 - val_acc: 0.6821\n",
      "Epoch 9/50\n",
      "5084/5084 [==============================] - 0s - loss: 0.6196 - acc: 0.6664 - val_loss: 0.6209 - val_acc: 0.6806\n",
      "Epoch 10/50\n",
      "5084/5084 [==============================] - 0s - loss: 0.6191 - acc: 0.6650 - val_loss: 0.6175 - val_acc: 0.6782\n",
      "Epoch 11/50\n",
      "5084/5084 [==============================] - 0s - loss: 0.6130 - acc: 0.6733 - val_loss: 0.6192 - val_acc: 0.6782\n",
      "Epoch 12/50\n",
      "5084/5084 [==============================] - 0s - loss: 0.6108 - acc: 0.6699 - val_loss: 0.6088 - val_acc: 0.6806\n",
      "Epoch 13/50\n",
      "5084/5084 [==============================] - 0s - loss: 0.6064 - acc: 0.6784 - val_loss: 0.6180 - val_acc: 0.6735\n",
      "Epoch 14/50\n",
      "5084/5084 [==============================] - 0s - loss: 0.6038 - acc: 0.6737 - val_loss: 0.6189 - val_acc: 0.6703\n",
      "Epoch 15/50\n",
      "5084/5084 [==============================] - 0s - loss: 0.6021 - acc: 0.6756 - val_loss: 0.6241 - val_acc: 0.6554\n",
      "Epoch 16/50\n",
      "5084/5084 [==============================] - 0s - loss: 0.5982 - acc: 0.6853 - val_loss: 0.6149 - val_acc: 0.6696\n",
      "Epoch 17/50\n",
      "5084/5084 [==============================] - 0s - loss: 0.5936 - acc: 0.6859 - val_loss: 0.6527 - val_acc: 0.6397\n",
      "Epoch 18/50\n",
      "5084/5084 [==============================] - 0s - loss: 0.5933 - acc: 0.6900 - val_loss: 0.6076 - val_acc: 0.6743\n",
      "Epoch 19/50\n",
      "5084/5084 [==============================] - 0s - loss: 0.5879 - acc: 0.6906 - val_loss: 0.6108 - val_acc: 0.6656\n",
      "Epoch 20/50\n",
      "5084/5084 [==============================] - 0s - loss: 0.5839 - acc: 0.6949 - val_loss: 0.6173 - val_acc: 0.6696\n",
      "Epoch 21/50\n",
      "5084/5084 [==============================] - 0s - loss: 0.5832 - acc: 0.6991 - val_loss: 0.6069 - val_acc: 0.6853\n",
      "Epoch 22/50\n",
      "5084/5084 [==============================] - 0s - loss: 0.5789 - acc: 0.6996 - val_loss: 0.6103 - val_acc: 0.6672\n",
      "Epoch 23/50\n",
      "5084/5084 [==============================] - 0s - loss: 0.5740 - acc: 0.6994 - val_loss: 0.6425 - val_acc: 0.6420\n",
      "Epoch 24/50\n",
      "5084/5084 [==============================] - 0s - loss: 0.5740 - acc: 0.7016 - val_loss: 0.5990 - val_acc: 0.6845\n",
      "Epoch 25/50\n",
      "5084/5084 [==============================] - 0s - loss: 0.5671 - acc: 0.7071 - val_loss: 0.6006 - val_acc: 0.6869\n",
      "Epoch 26/50\n",
      "5084/5084 [==============================] - 0s - loss: 0.5668 - acc: 0.7109 - val_loss: 0.6474 - val_acc: 0.6389\n",
      "Epoch 27/50\n",
      "5084/5084 [==============================] - 0s - loss: 0.5639 - acc: 0.7067 - val_loss: 0.6065 - val_acc: 0.6774\n",
      "Epoch 28/50\n",
      "5084/5084 [==============================] - 0s - loss: 0.5590 - acc: 0.7103 - val_loss: 0.6117 - val_acc: 0.6939\n",
      "Epoch 29/50\n",
      "5084/5084 [==============================] - 0s - loss: 0.5556 - acc: 0.7116 - val_loss: 0.6176 - val_acc: 0.6735\n",
      "Epoch 30/50\n",
      "5084/5084 [==============================] - 0s - loss: 0.5552 - acc: 0.7120 - val_loss: 0.6165 - val_acc: 0.6751\n",
      "Epoch 31/50\n",
      "5084/5084 [==============================] - 0s - loss: 0.5506 - acc: 0.7179 - val_loss: 0.6193 - val_acc: 0.6680\n",
      "Epoch 32/50\n",
      "5084/5084 [==============================] - 0s - loss: 0.5497 - acc: 0.7150 - val_loss: 0.6118 - val_acc: 0.6798\n",
      "Epoch 33/50\n",
      "5084/5084 [==============================] - 0s - loss: 0.5471 - acc: 0.7179 - val_loss: 0.6075 - val_acc: 0.6806\n",
      "Epoch 34/50\n",
      "5084/5084 [==============================] - 0s - loss: 0.5420 - acc: 0.7203 - val_loss: 0.6236 - val_acc: 0.6656\n",
      "Epoch 35/50\n",
      "5084/5084 [==============================] - 0s - loss: 0.5408 - acc: 0.7250 - val_loss: 0.6059 - val_acc: 0.6814\n",
      "Epoch 36/50\n",
      "5084/5084 [==============================] - 0s - loss: 0.5411 - acc: 0.7232 - val_loss: 0.6297 - val_acc: 0.6703\n",
      "Epoch 37/50\n",
      "5084/5084 [==============================] - 0s - loss: 0.5339 - acc: 0.7315 - val_loss: 0.6160 - val_acc: 0.6735\n",
      "Epoch 38/50\n",
      "5084/5084 [==============================] - 0s - loss: 0.5336 - acc: 0.7246 - val_loss: 0.6316 - val_acc: 0.6719\n",
      "Epoch 39/50\n",
      "5084/5084 [==============================] - 0s - loss: 0.5296 - acc: 0.7354 - val_loss: 0.6191 - val_acc: 0.6782\n",
      "Epoch 40/50\n",
      "5084/5084 [==============================] - 0s - loss: 0.5264 - acc: 0.7360 - val_loss: 0.6440 - val_acc: 0.6609\n",
      "Epoch 41/50\n",
      "5084/5084 [==============================] - 0s - loss: 0.5243 - acc: 0.7358 - val_loss: 0.6404 - val_acc: 0.6601\n",
      "Epoch 42/50\n",
      "5084/5084 [==============================] - 0s - loss: 0.5221 - acc: 0.7319 - val_loss: 0.6107 - val_acc: 0.6703\n",
      "Epoch 43/50\n",
      "5084/5084 [==============================] - 0s - loss: 0.5176 - acc: 0.7435 - val_loss: 0.6303 - val_acc: 0.6774\n",
      "Epoch 44/50\n",
      "5084/5084 [==============================] - 0s - loss: 0.5179 - acc: 0.7425 - val_loss: 0.6299 - val_acc: 0.6688\n",
      "Epoch 45/50\n",
      "5084/5084 [==============================] - 0s - loss: 0.5125 - acc: 0.7404 - val_loss: 0.6557 - val_acc: 0.6656\n",
      "Epoch 46/50\n",
      "5084/5084 [==============================] - 0s - loss: 0.5096 - acc: 0.7463 - val_loss: 0.6360 - val_acc: 0.6853\n",
      "Epoch 47/50\n",
      "5084/5084 [==============================] - 0s - loss: 0.5078 - acc: 0.7382 - val_loss: 0.6529 - val_acc: 0.6876\n",
      "Epoch 48/50\n",
      "5084/5084 [==============================] - 0s - loss: 0.5066 - acc: 0.7457 - val_loss: 0.6294 - val_acc: 0.6790\n",
      "Epoch 49/50\n",
      "5084/5084 [==============================] - 0s - loss: 0.5032 - acc: 0.7496 - val_loss: 0.6334 - val_acc: 0.6821\n",
      "Epoch 50/50\n",
      "5084/5084 [==============================] - 0s - loss: 0.5013 - acc: 0.7488 - val_loss: 0.6468 - val_acc: 0.6475\n"
     ]
    }
   ],
   "source": [
    "model1_fit = model1.fit(x_train, \n",
    "          y_train, \n",
    "          batch_size = batch_size, \n",
    "          epochs = epochs, \n",
    "          validation_split = .2,\n",
    "          verbose = 1)"
   ]
  },
  {
   "cell_type": "code",
   "execution_count": 18,
   "metadata": {},
   "outputs": [],
   "source": [
    "#y_test"
   ]
  },
  {
   "cell_type": "code",
   "execution_count": 19,
   "metadata": {},
   "outputs": [
    {
     "name": "stdout",
     "output_type": "stream",
     "text": [
      "1344/1589 [========================>.....] - ETA: 0s"
     ]
    }
   ],
   "source": [
    "y_hat1 = model1.predict_classes(x_test)"
   ]
  },
  {
   "cell_type": "code",
   "execution_count": 20,
   "metadata": {},
   "outputs": [
    {
     "data": {
      "text/html": [
       "<div>\n",
       "<table border=\"1\" class=\"dataframe\">\n",
       "  <thead>\n",
       "    <tr style=\"text-align: right;\">\n",
       "      <th>category</th>\n",
       "      <th>0</th>\n",
       "      <th>1</th>\n",
       "    </tr>\n",
       "    <tr>\n",
       "      <th>row_0</th>\n",
       "      <th></th>\n",
       "      <th></th>\n",
       "    </tr>\n",
       "  </thead>\n",
       "  <tbody>\n",
       "    <tr>\n",
       "      <th>0</th>\n",
       "      <td>266</td>\n",
       "      <td>215</td>\n",
       "    </tr>\n",
       "    <tr>\n",
       "      <th>1</th>\n",
       "      <td>312</td>\n",
       "      <td>796</td>\n",
       "    </tr>\n",
       "  </tbody>\n",
       "</table>\n",
       "</div>"
      ],
      "text/plain": [
       "category    0    1\n",
       "row_0             \n",
       "0         266  215\n",
       "1         312  796"
      ]
     },
     "execution_count": 20,
     "metadata": {},
     "output_type": "execute_result"
    }
   ],
   "source": [
    "pd.crosstab(y_hat1, y_test_1)"
   ]
  },
  {
   "cell_type": "code",
   "execution_count": 21,
   "metadata": {},
   "outputs": [
    {
     "data": {
      "text/plain": [
       "527"
      ]
     },
     "execution_count": 21,
     "metadata": {},
     "output_type": "execute_result"
    }
   ],
   "source": [
    "test_wrong = [im for im in zip(x_test, y_hat1, y_test_1) if im[1] != im[2]]\n",
    "len(test_wrong)"
   ]
  },
  {
   "cell_type": "code",
   "execution_count": 22,
   "metadata": {},
   "outputs": [
    {
     "data": {
      "text/plain": [
       "0.6683448709880428"
      ]
     },
     "execution_count": 22,
     "metadata": {},
     "output_type": "execute_result"
    }
   ],
   "source": [
    "test1_acc = (len(x_test)-len(test_wrong))/len(x_test)\n",
    "test1_acc"
   ]
  },
  {
   "cell_type": "code",
   "execution_count": 95,
   "metadata": {
    "collapsed": true
   },
   "outputs": [],
   "source": [
    "def acc_plot(model_fit):\n",
    "    model_acc = model_fit.history['acc']\n",
    "    model_val_acc = model_fit.history['val_acc']\n",
    "    plt.plot(range(0,epochs), model_acc, color = 'green',label='train accuracy' )\n",
    "    plt.legend()\n",
    "    plt.plot(range(0,epochs), model_val_acc, color = 'red',label='validation accuracy' )\n",
    "    plt.legend()\n",
    "    plt.xlabel('No of epochs')\n",
    "    plt.ylabel('accuracy')\n",
    "    plt.show()"
   ]
  },
  {
   "cell_type": "code",
   "execution_count": 96,
   "metadata": {},
   "outputs": [
    {
     "data": {
      "image/png": "[encoded data removed]",
      "text/plain": [
       "<matplotlib.figure.Figure at 0x7f93011cd240>"
      ]
     },
     "metadata": {},
     "output_type": "display_data"
    }
   ],
   "source": [
    "acc_plot(model1_fit)"
   ]
  },
  {
   "cell_type": "code",
   "execution_count": 36,
   "metadata": {},
   "outputs": [
    {
     "name": "stdout",
     "output_type": "stream",
     "text": [
      "1312/1589 [=======================>......] - ETA: 0s"
     ]
    },
    {
     "data": {
      "text/plain": [
       "0.66834487128812914"
      ]
     },
     "execution_count": 36,
     "metadata": {},
     "output_type": "execute_result"
    }
   ],
   "source": [
    "model1_test_acc = model1.evaluate(x_test,y_test)[1]\n",
    "model1_test_acc"
   ]
  },
  {
   "cell_type": "code",
   "execution_count": 70,
   "metadata": {},
   "outputs": [
    {
     "data": {
      "text/plain": [
       "0.74881982667346714"
      ]
     },
     "execution_count": 70,
     "metadata": {},
     "output_type": "execute_result"
    }
   ],
   "source": [
    "model1_train_acc = model1_fit.history['acc'][epochs-1]\n",
    "model1_train_acc"
   ]
  },
  {
   "cell_type": "markdown",
   "metadata": {},
   "source": [
    "### MODEL-2 \n",
    "TWO HIDDEN LAYERS"
   ]
  },
  {
   "cell_type": "code",
   "execution_count": 37,
   "metadata": {},
   "outputs": [
    {
     "name": "stdout",
     "output_type": "stream",
     "text": [
      "_________________________________________________________________\n",
      "Layer (type)                 Output Shape              Param #   \n",
      "=================================================================\n",
      "dense_4 (Dense)              (None, 524)               8384      \n",
      "_________________________________________________________________\n",
      "dense_5 (Dense)              (None, 1024)              537600    \n",
      "_________________________________________________________________\n",
      "dense_6 (Dense)              (None, 1024)              1049600   \n",
      "_________________________________________________________________\n",
      "dense_7 (Dense)              (None, 2)                 2050      \n",
      "=================================================================\n",
      "Total params: 1,597,634\n",
      "Trainable params: 1,597,634\n",
      "Non-trainable params: 0\n",
      "_________________________________________________________________\n",
      "Train on 5084 samples, validate on 1271 samples\n",
      "Epoch 1/50\n",
      "5084/5084 [==============================] - 3s - loss: 0.6811 - acc: 0.6155 - val_loss: 0.6314 - val_acc: 0.6703\n",
      "Epoch 2/50\n",
      "5084/5084 [==============================] - 3s - loss: 0.6555 - acc: 0.6310 - val_loss: 0.6271 - val_acc: 0.6719\n",
      "Epoch 3/50\n",
      "5084/5084 [==============================] - 3s - loss: 0.6479 - acc: 0.6379 - val_loss: 0.6209 - val_acc: 0.6727\n",
      "Epoch 4/50\n",
      "5084/5084 [==============================] - 3s - loss: 0.6387 - acc: 0.6511 - val_loss: 0.6371 - val_acc: 0.6538\n",
      "Epoch 5/50\n",
      "5084/5084 [==============================] - 3s - loss: 0.6322 - acc: 0.6530 - val_loss: 0.6134 - val_acc: 0.6735\n",
      "Epoch 6/50\n",
      "5084/5084 [==============================] - 3s - loss: 0.6235 - acc: 0.6623 - val_loss: 0.6146 - val_acc: 0.6696\n",
      "Epoch 7/50\n",
      "5084/5084 [==============================] - 3s - loss: 0.6147 - acc: 0.6690 - val_loss: 0.6152 - val_acc: 0.6790\n",
      "Epoch 8/50\n",
      "5084/5084 [==============================] - 3s - loss: 0.6135 - acc: 0.6776 - val_loss: 0.6369 - val_acc: 0.6452\n",
      "Epoch 9/50\n",
      "5084/5084 [==============================] - 3s - loss: 0.6050 - acc: 0.6802 - val_loss: 0.6076 - val_acc: 0.6829\n",
      "Epoch 10/50\n",
      "5084/5084 [==============================] - 3s - loss: 0.5950 - acc: 0.6845 - val_loss: 0.6170 - val_acc: 0.6664\n",
      "Epoch 11/50\n",
      "5084/5084 [==============================] - 3s - loss: 0.5913 - acc: 0.6853 - val_loss: 0.6114 - val_acc: 0.6798\n",
      "Epoch 12/50\n",
      "5084/5084 [==============================] - 3s - loss: 0.5892 - acc: 0.6900 - val_loss: 0.6192 - val_acc: 0.6884\n",
      "Epoch 13/50\n",
      "5084/5084 [==============================] - 3s - loss: 0.5768 - acc: 0.6979 - val_loss: 0.6176 - val_acc: 0.6814\n",
      "Epoch 14/50\n",
      "5084/5084 [==============================] - 3s - loss: 0.5706 - acc: 0.7036 - val_loss: 0.6222 - val_acc: 0.6774\n",
      "Epoch 15/50\n",
      "5084/5084 [==============================] - 3s - loss: 0.5645 - acc: 0.7054 - val_loss: 0.6359 - val_acc: 0.6617\n",
      "Epoch 16/50\n",
      "5084/5084 [==============================] - 3s - loss: 0.5566 - acc: 0.7097 - val_loss: 0.6371 - val_acc: 0.6696\n",
      "Epoch 17/50\n",
      "5084/5084 [==============================] - 3s - loss: 0.5490 - acc: 0.7156 - val_loss: 0.6338 - val_acc: 0.6530\n",
      "Epoch 18/50\n",
      "5084/5084 [==============================] - 3s - loss: 0.5369 - acc: 0.7205 - val_loss: 0.6581 - val_acc: 0.6507\n",
      "Epoch 19/50\n",
      "5084/5084 [==============================] - 3s - loss: 0.5364 - acc: 0.7256 - val_loss: 0.6423 - val_acc: 0.6577\n",
      "Epoch 20/50\n",
      "5084/5084 [==============================] - 3s - loss: 0.5299 - acc: 0.7292 - val_loss: 0.6224 - val_acc: 0.6829\n",
      "Epoch 21/50\n",
      "5084/5084 [==============================] - 3s - loss: 0.5210 - acc: 0.7321 - val_loss: 0.6330 - val_acc: 0.6837\n",
      "Epoch 22/50\n",
      "5084/5084 [==============================] - 3s - loss: 0.5150 - acc: 0.7351 - val_loss: 0.7371 - val_acc: 0.6349\n",
      "Epoch 23/50\n",
      "5084/5084 [==============================] - 3s - loss: 0.5111 - acc: 0.7368 - val_loss: 0.7014 - val_acc: 0.6365\n",
      "Epoch 24/50\n",
      "5084/5084 [==============================] - 3s - loss: 0.4959 - acc: 0.7439 - val_loss: 0.7090 - val_acc: 0.6892\n",
      "Epoch 25/50\n",
      "5084/5084 [==============================] - 3s - loss: 0.4995 - acc: 0.7498 - val_loss: 0.6982 - val_acc: 0.6341\n",
      "Epoch 26/50\n",
      "5084/5084 [==============================] - 3s - loss: 0.4883 - acc: 0.7514 - val_loss: 0.7148 - val_acc: 0.6766\n",
      "Epoch 27/50\n",
      "5084/5084 [==============================] - 3s - loss: 0.4874 - acc: 0.7559 - val_loss: 0.6843 - val_acc: 0.6766\n",
      "Epoch 28/50\n",
      "5084/5084 [==============================] - 3s - loss: 0.4790 - acc: 0.7590 - val_loss: 0.7023 - val_acc: 0.6680\n",
      "Epoch 29/50\n",
      "5084/5084 [==============================] - 3s - loss: 0.4725 - acc: 0.7614 - val_loss: 0.7152 - val_acc: 0.6688\n",
      "Epoch 30/50\n",
      "5084/5084 [==============================] - 3s - loss: 0.4688 - acc: 0.7667 - val_loss: 0.6847 - val_acc: 0.6947\n",
      "Epoch 31/50\n",
      "5084/5084 [==============================] - 3s - loss: 0.4648 - acc: 0.7665 - val_loss: 0.7580 - val_acc: 0.6625\n",
      "Epoch 32/50\n",
      "5084/5084 [==============================] - 3s - loss: 0.4579 - acc: 0.7679 - val_loss: 0.6991 - val_acc: 0.6617\n",
      "Epoch 33/50\n",
      "5084/5084 [==============================] - 3s - loss: 0.4496 - acc: 0.7716 - val_loss: 0.7758 - val_acc: 0.6491\n",
      "Epoch 34/50\n",
      "5084/5084 [==============================] - 3s - loss: 0.4449 - acc: 0.7681 - val_loss: 0.8046 - val_acc: 0.6845\n",
      "Epoch 35/50\n",
      "5084/5084 [==============================] - 3s - loss: 0.4385 - acc: 0.7710 - val_loss: 0.8311 - val_acc: 0.6577\n",
      "Epoch 36/50\n",
      "5084/5084 [==============================] - 3s - loss: 0.4397 - acc: 0.7764 - val_loss: 0.8771 - val_acc: 0.6790\n",
      "Epoch 37/50\n",
      "5084/5084 [==============================] - 3s - loss: 0.4321 - acc: 0.7825 - val_loss: 0.7633 - val_acc: 0.6664\n",
      "Epoch 38/50\n",
      "5084/5084 [==============================] - 3s - loss: 0.4223 - acc: 0.7856 - val_loss: 0.8359 - val_acc: 0.6727\n",
      "Epoch 39/50\n",
      "5084/5084 [==============================] - 3s - loss: 0.4264 - acc: 0.7878 - val_loss: 0.8017 - val_acc: 0.6656\n",
      "Epoch 40/50\n",
      "5084/5084 [==============================] - 3s - loss: 0.4181 - acc: 0.7891 - val_loss: 0.8294 - val_acc: 0.6625\n",
      "Epoch 41/50\n",
      "5084/5084 [==============================] - 3s - loss: 0.4136 - acc: 0.7907 - val_loss: 0.8623 - val_acc: 0.6680\n",
      "Epoch 42/50\n",
      "5084/5084 [==============================] - 3s - loss: 0.4124 - acc: 0.7880 - val_loss: 0.8496 - val_acc: 0.6664\n",
      "Epoch 43/50\n",
      "5084/5084 [==============================] - 3s - loss: 0.4137 - acc: 0.7886 - val_loss: 0.8592 - val_acc: 0.6255\n",
      "Epoch 44/50\n",
      "5084/5084 [==============================] - 3s - loss: 0.3995 - acc: 0.7992 - val_loss: 0.9311 - val_acc: 0.6585\n",
      "Epoch 45/50\n",
      "5084/5084 [==============================] - 3s - loss: 0.3998 - acc: 0.8039 - val_loss: 0.9029 - val_acc: 0.6601\n",
      "Epoch 46/50\n",
      "5084/5084 [==============================] - 3s - loss: 0.3952 - acc: 0.8033 - val_loss: 0.8411 - val_acc: 0.6475\n",
      "Epoch 47/50\n",
      "5084/5084 [==============================] - 3s - loss: 0.3972 - acc: 0.8033 - val_loss: 0.9234 - val_acc: 0.6507\n",
      "Epoch 48/50\n",
      "5084/5084 [==============================] - 3s - loss: 0.3948 - acc: 0.7992 - val_loss: 0.9530 - val_acc: 0.6279\n",
      "Epoch 49/50\n",
      "5084/5084 [==============================] - 3s - loss: 0.3831 - acc: 0.8104 - val_loss: 0.9159 - val_acc: 0.6656\n",
      "Epoch 50/50\n",
      "5084/5084 [==============================] - 3s - loss: 0.3756 - acc: 0.8151 - val_loss: 1.0234 - val_acc: 0.6711\n"
     ]
    }
   ],
   "source": [
    "model2 = Sequential()\n",
    "model2.add(Dense(524, activation='relu', input_shape=(15,)))\n",
    "model2.add(Dense(1024, activation='relu'))\n",
    "model2.add(Dense(1024, activation='relu'))\n",
    "model2.add(Dense(2, activation='softmax'))\n",
    "model2.summary()\n",
    "\n",
    "model2.compile(optimizer=RMSprop(),\n",
    "             loss='categorical_crossentropy',\n",
    "             metrics = ['accuracy'])\n",
    "model2_fit = model2.fit(x_train, \n",
    "          y_train, \n",
    "          batch_size = batch_size, \n",
    "          epochs = epochs, \n",
    "          validation_split = .2,\n",
    "          verbose = 1)"
   ]
  },
  {
   "cell_type": "code",
   "execution_count": 38,
   "metadata": {},
   "outputs": [
    {
     "name": "stdout",
     "output_type": "stream",
     "text": [
      "1568/1589 [============================>.] - ETA: 0s"
     ]
    }
   ],
   "source": [
    "y_hat2 = model2.predict_classes(x_test)"
   ]
  },
  {
   "cell_type": "code",
   "execution_count": 39,
   "metadata": {},
   "outputs": [
    {
     "data": {
      "text/html": [
       "<div>\n",
       "<table border=\"1\" class=\"dataframe\">\n",
       "  <thead>\n",
       "    <tr style=\"text-align: right;\">\n",
       "      <th>category</th>\n",
       "      <th>0</th>\n",
       "      <th>1</th>\n",
       "    </tr>\n",
       "    <tr>\n",
       "      <th>row_0</th>\n",
       "      <th></th>\n",
       "      <th></th>\n",
       "    </tr>\n",
       "  </thead>\n",
       "  <tbody>\n",
       "    <tr>\n",
       "      <th>0</th>\n",
       "      <td>173</td>\n",
       "      <td>143</td>\n",
       "    </tr>\n",
       "    <tr>\n",
       "      <th>1</th>\n",
       "      <td>405</td>\n",
       "      <td>868</td>\n",
       "    </tr>\n",
       "  </tbody>\n",
       "</table>\n",
       "</div>"
      ],
      "text/plain": [
       "category    0    1\n",
       "row_0             \n",
       "0         173  143\n",
       "1         405  868"
      ]
     },
     "execution_count": 39,
     "metadata": {},
     "output_type": "execute_result"
    }
   ],
   "source": [
    "pd.crosstab(y_hat2, y_test_1)"
   ]
  },
  {
   "cell_type": "code",
   "execution_count": 40,
   "metadata": {},
   "outputs": [
    {
     "data": {
      "text/plain": [
       "548"
      ]
     },
     "execution_count": 40,
     "metadata": {},
     "output_type": "execute_result"
    }
   ],
   "source": [
    "test_wrong = [im for im in zip(x_test, y_hat2, y_test_1) if im[1] != im[2]]\n",
    "len(test_wrong)"
   ]
  },
  {
   "cell_type": "code",
   "execution_count": 97,
   "metadata": {},
   "outputs": [
    {
     "data": {
      "image/png": "[encoded data removed]",
      "text/plain": [
       "<matplotlib.figure.Figure at 0x7f93013385c0>"
      ]
     },
     "metadata": {},
     "output_type": "display_data"
    }
   ],
   "source": [
    "acc_plot(model2_fit)"
   ]
  },
  {
   "cell_type": "code",
   "execution_count": 43,
   "metadata": {},
   "outputs": [
    {
     "name": "stdout",
     "output_type": "stream",
     "text": [
      "1504/1589 [===========================>..] - ETA: 0s"
     ]
    },
    {
     "data": {
      "text/plain": [
       "0.65512901214475971"
      ]
     },
     "execution_count": 43,
     "metadata": {},
     "output_type": "execute_result"
    }
   ],
   "source": [
    "model2_test_acc = model2.evaluate(x_test,y_test)[1]\n",
    "model2_test_acc"
   ]
  },
  {
   "cell_type": "code",
   "execution_count": 69,
   "metadata": {},
   "outputs": [
    {
     "data": {
      "text/plain": [
       "0.81510621525001381"
      ]
     },
     "execution_count": 69,
     "metadata": {},
     "output_type": "execute_result"
    }
   ],
   "source": [
    "model2_train_acc = model2_fit.history['acc'][epochs-1]\n",
    "model2_train_acc"
   ]
  },
  {
   "cell_type": "markdown",
   "metadata": {},
   "source": [
    "### MODEL-3\n",
    "THREE HIDDEN LAYERS"
   ]
  },
  {
   "cell_type": "code",
   "execution_count": 44,
   "metadata": {
    "scrolled": false
   },
   "outputs": [
    {
     "name": "stdout",
     "output_type": "stream",
     "text": [
      "_________________________________________________________________\n",
      "Layer (type)                 Output Shape              Param #   \n",
      "=================================================================\n",
      "dense_8 (Dense)              (None, 524)               8384      \n",
      "_________________________________________________________________\n",
      "dense_9 (Dense)              (None, 524)               275100    \n",
      "_________________________________________________________________\n",
      "dense_10 (Dense)             (None, 524)               275100    \n",
      "_________________________________________________________________\n",
      "dense_11 (Dense)             (None, 524)               275100    \n",
      "_________________________________________________________________\n",
      "dense_12 (Dense)             (None, 2)                 1050      \n",
      "=================================================================\n",
      "Total params: 834,734\n",
      "Trainable params: 834,734\n",
      "Non-trainable params: 0\n",
      "_________________________________________________________________\n",
      "Train on 5084 samples, validate on 1271 samples\n",
      "Epoch 1/50\n",
      "5084/5084 [==============================] - 1s - loss: 0.6706 - acc: 0.6170 - val_loss: 0.6319 - val_acc: 0.6577\n",
      "Epoch 2/50\n",
      "5084/5084 [==============================] - 1s - loss: 0.6570 - acc: 0.6255 - val_loss: 0.6245 - val_acc: 0.6719\n",
      "Epoch 3/50\n",
      "5084/5084 [==============================] - 1s - loss: 0.6474 - acc: 0.6355 - val_loss: 0.6255 - val_acc: 0.6688\n",
      "Epoch 4/50\n",
      "5084/5084 [==============================] - 1s - loss: 0.6384 - acc: 0.6518 - val_loss: 0.6270 - val_acc: 0.6735\n",
      "Epoch 5/50\n",
      "5084/5084 [==============================] - 1s - loss: 0.6342 - acc: 0.6558 - val_loss: 0.6659 - val_acc: 0.6066\n",
      "Epoch 6/50\n",
      "5084/5084 [==============================] - 1s - loss: 0.6283 - acc: 0.6625 - val_loss: 0.6138 - val_acc: 0.6782\n",
      "Epoch 7/50\n",
      "5084/5084 [==============================] - 1s - loss: 0.6213 - acc: 0.6674 - val_loss: 0.6279 - val_acc: 0.6522\n",
      "Epoch 8/50\n",
      "5084/5084 [==============================] - 1s - loss: 0.6114 - acc: 0.6717 - val_loss: 0.6099 - val_acc: 0.6774\n",
      "Epoch 9/50\n",
      "5084/5084 [==============================] - 1s - loss: 0.6073 - acc: 0.6776 - val_loss: 0.6092 - val_acc: 0.6711\n",
      "Epoch 10/50\n",
      "5084/5084 [==============================] - 1s - loss: 0.5975 - acc: 0.6758 - val_loss: 0.6170 - val_acc: 0.6821\n",
      "Epoch 11/50\n",
      "5084/5084 [==============================] - 1s - loss: 0.5934 - acc: 0.6865 - val_loss: 0.6204 - val_acc: 0.6680\n",
      "Epoch 12/50\n",
      "5084/5084 [==============================] - 1s - loss: 0.5880 - acc: 0.6902 - val_loss: 0.6278 - val_acc: 0.6727\n",
      "Epoch 13/50\n",
      "5084/5084 [==============================] - 1s - loss: 0.5832 - acc: 0.6953 - val_loss: 0.6130 - val_acc: 0.6814\n",
      "Epoch 14/50\n",
      "5084/5084 [==============================] - 1s - loss: 0.5724 - acc: 0.7030 - val_loss: 0.6214 - val_acc: 0.6853\n",
      "Epoch 15/50\n",
      "5084/5084 [==============================] - 1s - loss: 0.5636 - acc: 0.7083 - val_loss: 0.6260 - val_acc: 0.6703\n",
      "Epoch 16/50\n",
      "5084/5084 [==============================] - 1s - loss: 0.5598 - acc: 0.7097 - val_loss: 0.6214 - val_acc: 0.6751\n",
      "Epoch 17/50\n",
      "5084/5084 [==============================] - 1s - loss: 0.5480 - acc: 0.7179 - val_loss: 0.6214 - val_acc: 0.6829\n",
      "Epoch 18/50\n",
      "5084/5084 [==============================] - 1s - loss: 0.5419 - acc: 0.7248 - val_loss: 0.6380 - val_acc: 0.6837\n",
      "Epoch 19/50\n",
      "5084/5084 [==============================] - 1s - loss: 0.5316 - acc: 0.7286 - val_loss: 0.6399 - val_acc: 0.6719\n",
      "Epoch 20/50\n",
      "5084/5084 [==============================] - 1s - loss: 0.5222 - acc: 0.7345 - val_loss: 0.6385 - val_acc: 0.6806\n",
      "Epoch 21/50\n",
      "5084/5084 [==============================] - 1s - loss: 0.5255 - acc: 0.7331 - val_loss: 0.6351 - val_acc: 0.6688\n",
      "Epoch 22/50\n",
      "5084/5084 [==============================] - 2s - loss: 0.5129 - acc: 0.7429 - val_loss: 0.6431 - val_acc: 0.6696\n",
      "Epoch 23/50\n",
      "5084/5084 [==============================] - 2s - loss: 0.5098 - acc: 0.7398 - val_loss: 0.6882 - val_acc: 0.6530\n",
      "Epoch 24/50\n",
      "5084/5084 [==============================] - 1s - loss: 0.4979 - acc: 0.7441 - val_loss: 0.6615 - val_acc: 0.6837\n",
      "Epoch 25/50\n",
      "5084/5084 [==============================] - 1s - loss: 0.4916 - acc: 0.7567 - val_loss: 0.6707 - val_acc: 0.6656\n",
      "Epoch 26/50\n",
      "5084/5084 [==============================] - 1s - loss: 0.4877 - acc: 0.7522 - val_loss: 0.7295 - val_acc: 0.6711\n",
      "Epoch 27/50\n",
      "5084/5084 [==============================] - 1s - loss: 0.4823 - acc: 0.7573 - val_loss: 0.7735 - val_acc: 0.6499\n",
      "Epoch 28/50\n",
      "5084/5084 [==============================] - 1s - loss: 0.4719 - acc: 0.7608 - val_loss: 0.7429 - val_acc: 0.6845\n",
      "Epoch 29/50\n",
      "5084/5084 [==============================] - 1s - loss: 0.4666 - acc: 0.7636 - val_loss: 0.7406 - val_acc: 0.6829\n",
      "Epoch 30/50\n",
      "5084/5084 [==============================] - 1s - loss: 0.4585 - acc: 0.7705 - val_loss: 0.7291 - val_acc: 0.6727\n",
      "Epoch 31/50\n",
      "5084/5084 [==============================] - 1s - loss: 0.4570 - acc: 0.7697 - val_loss: 0.7439 - val_acc: 0.6593\n",
      "Epoch 32/50\n",
      "5084/5084 [==============================] - 1s - loss: 0.4466 - acc: 0.7736 - val_loss: 0.8002 - val_acc: 0.6735\n",
      "Epoch 33/50\n",
      "5084/5084 [==============================] - 1s - loss: 0.4459 - acc: 0.7732 - val_loss: 0.7992 - val_acc: 0.6546\n",
      "Epoch 34/50\n",
      "5084/5084 [==============================] - 1s - loss: 0.4369 - acc: 0.7785 - val_loss: 0.7790 - val_acc: 0.6766\n",
      "Epoch 35/50\n",
      "5084/5084 [==============================] - 1s - loss: 0.4387 - acc: 0.7771 - val_loss: 0.7705 - val_acc: 0.6758\n",
      "Epoch 36/50\n",
      "5084/5084 [==============================] - 1s - loss: 0.4229 - acc: 0.7870 - val_loss: 0.8098 - val_acc: 0.6743\n",
      "Epoch 37/50\n",
      "5084/5084 [==============================] - 1s - loss: 0.4160 - acc: 0.7901 - val_loss: 0.8459 - val_acc: 0.6680\n",
      "Epoch 38/50\n",
      "5084/5084 [==============================] - 1s - loss: 0.4277 - acc: 0.7870 - val_loss: 0.8296 - val_acc: 0.6648\n",
      "Epoch 39/50\n",
      "5084/5084 [==============================] - 1s - loss: 0.4066 - acc: 0.7992 - val_loss: 0.9287 - val_acc: 0.6263\n",
      "Epoch 40/50\n",
      "5084/5084 [==============================] - 1s - loss: 0.4123 - acc: 0.7974 - val_loss: 0.8741 - val_acc: 0.6483\n",
      "Epoch 41/50\n",
      "5084/5084 [==============================] - 1s - loss: 0.3977 - acc: 0.8039 - val_loss: 0.9116 - val_acc: 0.6475\n",
      "Epoch 42/50\n",
      "5084/5084 [==============================] - 1s - loss: 0.3958 - acc: 0.8002 - val_loss: 0.9315 - val_acc: 0.6680\n",
      "Epoch 43/50\n",
      "5084/5084 [==============================] - 1s - loss: 0.3935 - acc: 0.8047 - val_loss: 0.8702 - val_acc: 0.6696\n",
      "Epoch 44/50\n",
      "5084/5084 [==============================] - 1s - loss: 0.3919 - acc: 0.8088 - val_loss: 0.9203 - val_acc: 0.6349\n",
      "Epoch 45/50\n",
      "5084/5084 [==============================] - 1s - loss: 0.4023 - acc: 0.8057 - val_loss: 0.9265 - val_acc: 0.6554\n",
      "Epoch 46/50\n",
      "5084/5084 [==============================] - 1s - loss: 0.3828 - acc: 0.8145 - val_loss: 0.9597 - val_acc: 0.6515\n",
      "Epoch 47/50\n",
      "5084/5084 [==============================] - 1s - loss: 0.3804 - acc: 0.8171 - val_loss: 1.0153 - val_acc: 0.6522\n",
      "Epoch 48/50\n",
      "5084/5084 [==============================] - 1s - loss: 0.3853 - acc: 0.8122 - val_loss: 0.9207 - val_acc: 0.6326\n",
      "Epoch 49/50\n",
      "5084/5084 [==============================] - 1s - loss: 0.3677 - acc: 0.8185 - val_loss: 0.9310 - val_acc: 0.6483\n",
      "Epoch 50/50\n",
      "5084/5084 [==============================] - 1s - loss: 0.3735 - acc: 0.8147 - val_loss: 1.0097 - val_acc: 0.6373\n"
     ]
    }
   ],
   "source": [
    "model3 = Sequential()\n",
    "model3.add(Dense(524, activation='relu', input_shape=(15,)))\n",
    "model3.add(Dense(524, activation='relu'))\n",
    "model3.add(Dense(524, activation='relu'))\n",
    "model3.add(Dense(524, activation='relu'))\n",
    "model3.add(Dense(2, activation='softmax'))\n",
    "model3.summary()\n",
    "\n",
    "model3.compile(optimizer=RMSprop(),\n",
    "             loss='categorical_crossentropy',\n",
    "             metrics = ['accuracy'])\n",
    "model3_fit = model3.fit(x_train, \n",
    "          y_train, \n",
    "          batch_size = batch_size, \n",
    "          epochs = epochs, \n",
    "          validation_split = .2,\n",
    "          verbose = 1)"
   ]
  },
  {
   "cell_type": "code",
   "execution_count": 45,
   "metadata": {},
   "outputs": [
    {
     "name": "stdout",
     "output_type": "stream",
     "text": [
      "1312/1589 [=======================>......] - ETA: 0s"
     ]
    }
   ],
   "source": [
    "y_hat3 = model3.predict_classes(x_test)"
   ]
  },
  {
   "cell_type": "code",
   "execution_count": 46,
   "metadata": {},
   "outputs": [
    {
     "data": {
      "text/html": [
       "<div>\n",
       "<table border=\"1\" class=\"dataframe\">\n",
       "  <thead>\n",
       "    <tr style=\"text-align: right;\">\n",
       "      <th>category</th>\n",
       "      <th>0</th>\n",
       "      <th>1</th>\n",
       "    </tr>\n",
       "    <tr>\n",
       "      <th>row_0</th>\n",
       "      <th></th>\n",
       "      <th></th>\n",
       "    </tr>\n",
       "  </thead>\n",
       "  <tbody>\n",
       "    <tr>\n",
       "      <th>0</th>\n",
       "      <td>252</td>\n",
       "      <td>229</td>\n",
       "    </tr>\n",
       "    <tr>\n",
       "      <th>1</th>\n",
       "      <td>326</td>\n",
       "      <td>782</td>\n",
       "    </tr>\n",
       "  </tbody>\n",
       "</table>\n",
       "</div>"
      ],
      "text/plain": [
       "category    0    1\n",
       "row_0             \n",
       "0         252  229\n",
       "1         326  782"
      ]
     },
     "execution_count": 46,
     "metadata": {},
     "output_type": "execute_result"
    }
   ],
   "source": [
    "pd.crosstab(y_hat3, y_test_1)"
   ]
  },
  {
   "cell_type": "code",
   "execution_count": 47,
   "metadata": {},
   "outputs": [
    {
     "name": "stdout",
     "output_type": "stream",
     "text": [
      "555\n"
     ]
    }
   ],
   "source": [
    "test_wrong = [im for im in zip(x_test, y_hat3, y_test_1) if im[1] != im[2]]\n",
    "print(len(test_wrong))"
   ]
  },
  {
   "cell_type": "code",
   "execution_count": 98,
   "metadata": {},
   "outputs": [
    {
     "data": {
      "image/png": "[encoded data removed]",
      "text/plain": [
       "<matplotlib.figure.Figure at 0x7f93014e9e48>"
      ]
     },
     "metadata": {},
     "output_type": "display_data"
    }
   ],
   "source": [
    "acc_plot(model3_fit)"
   ]
  },
  {
   "cell_type": "code",
   "execution_count": 49,
   "metadata": {},
   "outputs": [
    {
     "name": "stdout",
     "output_type": "stream",
     "text": [
      "1376/1589 [========================>.....] - ETA: 0s"
     ]
    },
    {
     "data": {
      "text/plain": [
       "0.650723725876169"
      ]
     },
     "execution_count": 49,
     "metadata": {},
     "output_type": "execute_result"
    }
   ],
   "source": [
    "model3_test_acc = model3.evaluate(x_test,y_test)[1]\n",
    "model3_test_acc"
   ]
  },
  {
   "cell_type": "code",
   "execution_count": 68,
   "metadata": {},
   "outputs": [
    {
     "data": {
      "text/plain": [
       "0.81471282407864165"
      ]
     },
     "execution_count": 68,
     "metadata": {},
     "output_type": "execute_result"
    }
   ],
   "source": [
    "model3_train_acc = model3_fit.history['acc'][epochs-1]\n",
    "model3_train_acc"
   ]
  },
  {
   "cell_type": "markdown",
   "metadata": {},
   "source": [
    "### MODEL-4\n",
    "FOUR HIDDEN LAYERS"
   ]
  },
  {
   "cell_type": "code",
   "execution_count": 50,
   "metadata": {},
   "outputs": [
    {
     "name": "stdout",
     "output_type": "stream",
     "text": [
      "_________________________________________________________________\n",
      "Layer (type)                 Output Shape              Param #   \n",
      "=================================================================\n",
      "dense_13 (Dense)             (None, 524)               8384      \n",
      "_________________________________________________________________\n",
      "dense_14 (Dense)             (None, 1024)              537600    \n",
      "_________________________________________________________________\n",
      "dense_15 (Dense)             (None, 1024)              1049600   \n",
      "_________________________________________________________________\n",
      "dense_16 (Dense)             (None, 1024)              1049600   \n",
      "_________________________________________________________________\n",
      "dense_17 (Dense)             (None, 1024)              1049600   \n",
      "_________________________________________________________________\n",
      "dense_18 (Dense)             (None, 2)                 2050      \n",
      "=================================================================\n",
      "Total params: 3,696,834\n",
      "Trainable params: 3,696,834\n",
      "Non-trainable params: 0\n",
      "_________________________________________________________________\n",
      "Train on 5084 samples, validate on 1271 samples\n",
      "Epoch 1/50\n",
      "5084/5084 [==============================] - 6s - loss: 0.7048 - acc: 0.6178 - val_loss: 0.6322 - val_acc: 0.6609\n",
      "Epoch 2/50\n",
      "5084/5084 [==============================] - 6s - loss: 0.6591 - acc: 0.6208 - val_loss: 0.6535 - val_acc: 0.6255\n",
      "Epoch 3/50\n",
      "5084/5084 [==============================] - 6s - loss: 0.6490 - acc: 0.6416 - val_loss: 0.6342 - val_acc: 0.6436\n",
      "Epoch 4/50\n",
      "5084/5084 [==============================] - 6s - loss: 0.6439 - acc: 0.6440 - val_loss: 0.6234 - val_acc: 0.6735\n",
      "Epoch 5/50\n",
      "5084/5084 [==============================] - 6s - loss: 0.6381 - acc: 0.6489 - val_loss: 0.6205 - val_acc: 0.6766\n",
      "Epoch 6/50\n",
      "5084/5084 [==============================] - 6s - loss: 0.6319 - acc: 0.6577 - val_loss: 0.6234 - val_acc: 0.6798\n",
      "Epoch 7/50\n",
      "5084/5084 [==============================] - 7s - loss: 0.6231 - acc: 0.6694 - val_loss: 0.6251 - val_acc: 0.6609\n",
      "Epoch 8/50\n",
      "5084/5084 [==============================] - 7s - loss: 0.6209 - acc: 0.6719 - val_loss: 0.6272 - val_acc: 0.6782\n",
      "Epoch 9/50\n",
      "5084/5084 [==============================] - 6s - loss: 0.6124 - acc: 0.6794 - val_loss: 0.6399 - val_acc: 0.6719\n",
      "Epoch 10/50\n",
      "5084/5084 [==============================] - 6s - loss: 0.6043 - acc: 0.6831 - val_loss: 0.6266 - val_acc: 0.6593\n",
      "Epoch 11/50\n",
      "5084/5084 [==============================] - 6s - loss: 0.6005 - acc: 0.6796 - val_loss: 0.6130 - val_acc: 0.6688\n",
      "Epoch 12/50\n",
      "5084/5084 [==============================] - 6s - loss: 0.5894 - acc: 0.6918 - val_loss: 0.6062 - val_acc: 0.6758\n",
      "Epoch 13/50\n",
      "5084/5084 [==============================] - 6s - loss: 0.5807 - acc: 0.6914 - val_loss: 0.6142 - val_acc: 0.6869\n",
      "Epoch 14/50\n",
      "5084/5084 [==============================] - 6s - loss: 0.5789 - acc: 0.7000 - val_loss: 0.6244 - val_acc: 0.6727\n",
      "Epoch 15/50\n",
      "5084/5084 [==============================] - 7s - loss: 0.5694 - acc: 0.7010 - val_loss: 0.6386 - val_acc: 0.6837\n",
      "Epoch 16/50\n",
      "5084/5084 [==============================] - 7s - loss: 0.5624 - acc: 0.7087 - val_loss: 0.6605 - val_acc: 0.6861\n",
      "Epoch 17/50\n",
      "5084/5084 [==============================] - 6s - loss: 0.5569 - acc: 0.7191 - val_loss: 0.6266 - val_acc: 0.6845\n",
      "Epoch 18/50\n",
      "5084/5084 [==============================] - 6s - loss: 0.5483 - acc: 0.7191 - val_loss: 0.6612 - val_acc: 0.6719\n",
      "Epoch 19/50\n",
      "5084/5084 [==============================] - 7s - loss: 0.5396 - acc: 0.7217 - val_loss: 0.6245 - val_acc: 0.6939\n",
      "Epoch 20/50\n",
      "5084/5084 [==============================] - 6s - loss: 0.5298 - acc: 0.7284 - val_loss: 0.6556 - val_acc: 0.6664\n",
      "Epoch 21/50\n",
      "5084/5084 [==============================] - 7s - loss: 0.5258 - acc: 0.7307 - val_loss: 0.6803 - val_acc: 0.6656\n",
      "Epoch 22/50\n",
      "5084/5084 [==============================] - 6s - loss: 0.5159 - acc: 0.7374 - val_loss: 0.6457 - val_acc: 0.6790\n",
      "Epoch 23/50\n",
      "5084/5084 [==============================] - 6s - loss: 0.5050 - acc: 0.7417 - val_loss: 0.7876 - val_acc: 0.6703\n",
      "Epoch 24/50\n",
      "5084/5084 [==============================] - 7s - loss: 0.5125 - acc: 0.7400 - val_loss: 0.7102 - val_acc: 0.6711\n",
      "Epoch 25/50\n",
      "5084/5084 [==============================] - 6s - loss: 0.4970 - acc: 0.7480 - val_loss: 0.6305 - val_acc: 0.6884\n",
      "Epoch 26/50\n",
      "5084/5084 [==============================] - 6s - loss: 0.4910 - acc: 0.7528 - val_loss: 0.6841 - val_acc: 0.6703\n",
      "Epoch 27/50\n",
      "5084/5084 [==============================] - 6s - loss: 0.4825 - acc: 0.7587 - val_loss: 0.7462 - val_acc: 0.6814\n",
      "Epoch 28/50\n",
      "5084/5084 [==============================] - 6s - loss: 0.4773 - acc: 0.7596 - val_loss: 0.7341 - val_acc: 0.6711\n",
      "Epoch 29/50\n",
      "5084/5084 [==============================] - 6s - loss: 0.4698 - acc: 0.7644 - val_loss: 0.7485 - val_acc: 0.6585\n",
      "Epoch 30/50\n",
      "5084/5084 [==============================] - 6s - loss: 0.4768 - acc: 0.7590 - val_loss: 0.6771 - val_acc: 0.6491\n",
      "Epoch 31/50\n",
      "5084/5084 [==============================] - 6s - loss: 0.4681 - acc: 0.7732 - val_loss: 0.8335 - val_acc: 0.6648\n",
      "Epoch 32/50\n",
      "5084/5084 [==============================] - 6s - loss: 0.4655 - acc: 0.7714 - val_loss: 0.8080 - val_acc: 0.6774\n",
      "Epoch 33/50\n",
      "5084/5084 [==============================] - 6s - loss: 0.4545 - acc: 0.7740 - val_loss: 0.7589 - val_acc: 0.6837\n",
      "Epoch 34/50\n",
      "5084/5084 [==============================] - 6s - loss: 0.4419 - acc: 0.7781 - val_loss: 0.8810 - val_acc: 0.6664\n",
      "Epoch 35/50\n",
      "5084/5084 [==============================] - 6s - loss: 0.4416 - acc: 0.7797 - val_loss: 0.8748 - val_acc: 0.6672\n",
      "Epoch 36/50\n",
      "5084/5084 [==============================] - 6s - loss: 0.4513 - acc: 0.7840 - val_loss: 0.7179 - val_acc: 0.6515\n",
      "Epoch 37/50\n",
      "5084/5084 [==============================] - 7s - loss: 0.4254 - acc: 0.7935 - val_loss: 0.7807 - val_acc: 0.6585\n",
      "Epoch 38/50\n",
      "5084/5084 [==============================] - 8s - loss: 0.4195 - acc: 0.7897 - val_loss: 0.9554 - val_acc: 0.6420\n",
      "Epoch 39/50\n",
      "5084/5084 [==============================] - 6s - loss: 0.4367 - acc: 0.7901 - val_loss: 0.7786 - val_acc: 0.6806\n",
      "Epoch 40/50\n",
      "5084/5084 [==============================] - 6s - loss: 0.4065 - acc: 0.7998 - val_loss: 0.8201 - val_acc: 0.6483\n",
      "Epoch 41/50\n",
      "5084/5084 [==============================] - 7s - loss: 0.4039 - acc: 0.8035 - val_loss: 0.9083 - val_acc: 0.6444\n",
      "Epoch 42/50\n",
      "5084/5084 [==============================] - 6s - loss: 0.4131 - acc: 0.8027 - val_loss: 0.8041 - val_acc: 0.6743\n",
      "Epoch 43/50\n",
      "5084/5084 [==============================] - 6s - loss: 0.3935 - acc: 0.8049 - val_loss: 1.0656 - val_acc: 0.6554\n",
      "Epoch 44/50\n",
      "5084/5084 [==============================] - 6s - loss: 0.3958 - acc: 0.8094 - val_loss: 0.9661 - val_acc: 0.6640\n",
      "Epoch 45/50\n",
      "5084/5084 [==============================] - 6s - loss: 0.3943 - acc: 0.8084 - val_loss: 0.9426 - val_acc: 0.6577\n",
      "Epoch 46/50\n",
      "5084/5084 [==============================] - 6s - loss: 0.3942 - acc: 0.8129 - val_loss: 0.9195 - val_acc: 0.6397\n",
      "Epoch 47/50\n",
      "5084/5084 [==============================] - 6s - loss: 0.3660 - acc: 0.8206 - val_loss: 1.0840 - val_acc: 0.6168\n",
      "Epoch 48/50\n",
      "5084/5084 [==============================] - 6s - loss: 0.3772 - acc: 0.8200 - val_loss: 0.9703 - val_acc: 0.6404\n",
      "Epoch 49/50\n",
      "5084/5084 [==============================] - 7s - loss: 0.3709 - acc: 0.8157 - val_loss: 1.0379 - val_acc: 0.6585\n",
      "Epoch 50/50\n",
      "5084/5084 [==============================] - 6s - loss: 0.3729 - acc: 0.8212 - val_loss: 0.9008 - val_acc: 0.6609\n"
     ]
    }
   ],
   "source": [
    "model4 = Sequential()\n",
    "model4.add(Dense(524, activation='relu', input_shape=(15,)))\n",
    "model4.add(Dense(1024, activation='relu'))\n",
    "model4.add(Dense(1024, activation='relu'))\n",
    "model4.add(Dense(1024, activation='relu'))\n",
    "model4.add(Dense(1024, activation='relu'))\n",
    "model4.add(Dense(2, activation='softmax'))\n",
    "model4.summary()\n",
    "\n",
    "model4.compile(optimizer=RMSprop(),\n",
    "             loss='categorical_crossentropy',\n",
    "             metrics = ['accuracy'])\n",
    "model4_fit = model4.fit(x_train, \n",
    "          y_train, \n",
    "          batch_size = batch_size, \n",
    "          epochs = epochs, \n",
    "          validation_split = .2,\n",
    "          verbose = 1)"
   ]
  },
  {
   "cell_type": "code",
   "execution_count": 51,
   "metadata": {},
   "outputs": [
    {
     "name": "stdout",
     "output_type": "stream",
     "text": [
      "1568/1589 [============================>.] - ETA: 0s"
     ]
    }
   ],
   "source": [
    "y_hat4 = model4.predict_classes(x_test)"
   ]
  },
  {
   "cell_type": "code",
   "execution_count": 52,
   "metadata": {},
   "outputs": [
    {
     "data": {
      "text/html": [
       "<div>\n",
       "<table border=\"1\" class=\"dataframe\">\n",
       "  <thead>\n",
       "    <tr style=\"text-align: right;\">\n",
       "      <th>category</th>\n",
       "      <th>0</th>\n",
       "      <th>1</th>\n",
       "    </tr>\n",
       "    <tr>\n",
       "      <th>row_0</th>\n",
       "      <th></th>\n",
       "      <th></th>\n",
       "    </tr>\n",
       "  </thead>\n",
       "  <tbody>\n",
       "    <tr>\n",
       "      <th>0</th>\n",
       "      <td>287</td>\n",
       "      <td>279</td>\n",
       "    </tr>\n",
       "    <tr>\n",
       "      <th>1</th>\n",
       "      <td>291</td>\n",
       "      <td>732</td>\n",
       "    </tr>\n",
       "  </tbody>\n",
       "</table>\n",
       "</div>"
      ],
      "text/plain": [
       "category    0    1\n",
       "row_0             \n",
       "0         287  279\n",
       "1         291  732"
      ]
     },
     "execution_count": 52,
     "metadata": {},
     "output_type": "execute_result"
    }
   ],
   "source": [
    "pd.crosstab(y_hat4, y_test_1)"
   ]
  },
  {
   "cell_type": "code",
   "execution_count": 53,
   "metadata": {},
   "outputs": [
    {
     "data": {
      "text/plain": [
       "570"
      ]
     },
     "execution_count": 53,
     "metadata": {},
     "output_type": "execute_result"
    }
   ],
   "source": [
    "test_wrong = [im for im in zip(x_test, y_hat4, y_test_1) if im[1] != im[2]]\n",
    "len(test_wrong)"
   ]
  },
  {
   "cell_type": "code",
   "execution_count": 99,
   "metadata": {},
   "outputs": [
    {
     "data": {
      "image/png": "[encoded data removed]",
      "text/plain": [
       "<matplotlib.figure.Figure at 0x7f9301527358>"
      ]
     },
     "metadata": {},
     "output_type": "display_data"
    }
   ],
   "source": [
    "acc_plot(model4_fit)"
   ]
  },
  {
   "cell_type": "code",
   "execution_count": 55,
   "metadata": {},
   "outputs": [
    {
     "name": "stdout",
     "output_type": "stream",
     "text": [
      "1589/1589 [==============================] - 0s     \n"
     ]
    },
    {
     "data": {
      "text/plain": [
       "0.64128382660593908"
      ]
     },
     "execution_count": 55,
     "metadata": {},
     "output_type": "execute_result"
    }
   ],
   "source": [
    "model4_test_acc = model4.evaluate(x_test,y_test)[1]\n",
    "model4_test_acc"
   ]
  },
  {
   "cell_type": "code",
   "execution_count": 67,
   "metadata": {},
   "outputs": [
    {
     "data": {
      "text/plain": [
       "0.82120377603804007"
      ]
     },
     "execution_count": 67,
     "metadata": {},
     "output_type": "execute_result"
    }
   ],
   "source": [
    "model4_train_acc = model4_fit.history['acc'][epochs-1]\n",
    "model4_train_acc"
   ]
  },
  {
   "cell_type": "markdown",
   "metadata": {},
   "source": [
    "### MODEL-5\n",
    "FIVE HIDDEN LAYERS"
   ]
  },
  {
   "cell_type": "code",
   "execution_count": 56,
   "metadata": {},
   "outputs": [
    {
     "name": "stdout",
     "output_type": "stream",
     "text": [
      "_________________________________________________________________\n",
      "Layer (type)                 Output Shape              Param #   \n",
      "=================================================================\n",
      "dense_19 (Dense)             (None, 524)               8384      \n",
      "_________________________________________________________________\n",
      "dense_20 (Dense)             (None, 524)               275100    \n",
      "_________________________________________________________________\n",
      "dense_21 (Dense)             (None, 1024)              537600    \n",
      "_________________________________________________________________\n",
      "dense_22 (Dense)             (None, 1024)              1049600   \n",
      "_________________________________________________________________\n",
      "dense_23 (Dense)             (None, 2048)              2099200   \n",
      "_________________________________________________________________\n",
      "dense_24 (Dense)             (None, 2048)              4196352   \n",
      "_________________________________________________________________\n",
      "dense_25 (Dense)             (None, 2)                 4098      \n",
      "=================================================================\n",
      "Total params: 8,170,334\n",
      "Trainable params: 8,170,334\n",
      "Non-trainable params: 0\n",
      "_________________________________________________________________\n",
      "Train on 5084 samples, validate on 1271 samples\n",
      "Epoch 1/50\n",
      "5084/5084 [==============================] - 12s - loss: 0.7792 - acc: 0.6111 - val_loss: 0.6456 - val_acc: 0.6341\n",
      "Epoch 2/50\n",
      "5084/5084 [==============================] - 12s - loss: 0.6628 - acc: 0.6174 - val_loss: 0.6323 - val_acc: 0.6625\n",
      "Epoch 3/50\n",
      "5084/5084 [==============================] - 12s - loss: 0.6536 - acc: 0.6277 - val_loss: 0.6239 - val_acc: 0.6711\n",
      "Epoch 4/50\n",
      "5084/5084 [==============================] - 12s - loss: 0.6503 - acc: 0.6296 - val_loss: 0.6292 - val_acc: 0.6696\n",
      "Epoch 5/50\n",
      "5084/5084 [==============================] - 14s - loss: 0.6431 - acc: 0.6428 - val_loss: 0.6174 - val_acc: 0.6743\n",
      "Epoch 6/50\n",
      "5084/5084 [==============================] - 12s - loss: 0.6364 - acc: 0.6562 - val_loss: 0.6420 - val_acc: 0.6208\n",
      "Epoch 7/50\n",
      "5084/5084 [==============================] - 12s - loss: 0.6357 - acc: 0.6532 - val_loss: 0.6279 - val_acc: 0.6530\n",
      "Epoch 8/50\n",
      "5084/5084 [==============================] - 14s - loss: 0.6289 - acc: 0.6562 - val_loss: 0.6186 - val_acc: 0.6648\n",
      "Epoch 9/50\n",
      "5084/5084 [==============================] - 13s - loss: 0.6180 - acc: 0.6719 - val_loss: 0.6126 - val_acc: 0.6837\n",
      "Epoch 10/50\n",
      "5084/5084 [==============================] - 15s - loss: 0.6155 - acc: 0.6723 - val_loss: 0.6436 - val_acc: 0.6530\n",
      "Epoch 11/50\n",
      "5084/5084 [==============================] - 14s - loss: 0.6065 - acc: 0.6778 - val_loss: 0.6264 - val_acc: 0.6467\n",
      "Epoch 12/50\n",
      "5084/5084 [==============================] - 13s - loss: 0.6026 - acc: 0.6843 - val_loss: 0.6077 - val_acc: 0.6798\n",
      "Epoch 13/50\n",
      "5084/5084 [==============================] - 13s - loss: 0.5962 - acc: 0.6843 - val_loss: 0.6099 - val_acc: 0.6743\n",
      "Epoch 14/50\n",
      "5084/5084 [==============================] - 13s - loss: 0.5908 - acc: 0.6912 - val_loss: 0.6247 - val_acc: 0.6798\n",
      "Epoch 15/50\n",
      "5084/5084 [==============================] - 12s - loss: 0.5817 - acc: 0.6930 - val_loss: 0.6089 - val_acc: 0.6806\n",
      "Epoch 16/50\n",
      "5084/5084 [==============================] - 12s - loss: 0.5787 - acc: 0.6920 - val_loss: 0.6203 - val_acc: 0.6892\n",
      "Epoch 17/50\n",
      "5084/5084 [==============================] - 13s - loss: 0.5657 - acc: 0.7073 - val_loss: 0.6265 - val_acc: 0.6727\n",
      "Epoch 18/50\n",
      "5084/5084 [==============================] - 12s - loss: 0.5665 - acc: 0.7087 - val_loss: 0.6282 - val_acc: 0.6743\n",
      "Epoch 19/50\n",
      "5084/5084 [==============================] - 12s - loss: 0.5551 - acc: 0.7105 - val_loss: 0.6295 - val_acc: 0.6538\n",
      "Epoch 20/50\n",
      "5084/5084 [==============================] - 12s - loss: 0.5487 - acc: 0.7238 - val_loss: 0.6313 - val_acc: 0.6743\n",
      "Epoch 21/50\n",
      "5084/5084 [==============================] - 12s - loss: 0.5384 - acc: 0.7288 - val_loss: 0.6368 - val_acc: 0.6680\n",
      "Epoch 22/50\n",
      "5084/5084 [==============================] - 13s - loss: 0.5292 - acc: 0.7305 - val_loss: 0.6512 - val_acc: 0.6837\n",
      "Epoch 23/50\n",
      "5084/5084 [==============================] - 12s - loss: 0.5286 - acc: 0.7374 - val_loss: 0.6590 - val_acc: 0.6515\n",
      "Epoch 24/50\n",
      "5084/5084 [==============================] - 12s - loss: 0.5155 - acc: 0.7410 - val_loss: 0.6815 - val_acc: 0.6475\n",
      "Epoch 25/50\n",
      "5084/5084 [==============================] - 13s - loss: 0.5109 - acc: 0.7404 - val_loss: 0.7347 - val_acc: 0.6688\n",
      "Epoch 26/50\n",
      "5084/5084 [==============================] - 13s - loss: 0.5011 - acc: 0.7496 - val_loss: 0.6445 - val_acc: 0.6577\n",
      "Epoch 27/50\n",
      "5084/5084 [==============================] - 12s - loss: 0.4999 - acc: 0.7474 - val_loss: 0.6792 - val_acc: 0.6908\n",
      "Epoch 28/50\n",
      "5084/5084 [==============================] - 13s - loss: 0.5091 - acc: 0.7518 - val_loss: 0.7483 - val_acc: 0.6601\n",
      "Epoch 29/50\n",
      "5084/5084 [==============================] - 13s - loss: 0.4960 - acc: 0.7569 - val_loss: 0.6921 - val_acc: 0.6617\n",
      "Epoch 30/50\n",
      "5084/5084 [==============================] - 14s - loss: 0.4730 - acc: 0.7628 - val_loss: 0.7051 - val_acc: 0.6782\n",
      "Epoch 31/50\n",
      "5084/5084 [==============================] - 13s - loss: 0.4734 - acc: 0.7616 - val_loss: 0.7045 - val_acc: 0.6751\n",
      "Epoch 32/50\n",
      "5084/5084 [==============================] - 13s - loss: 0.4761 - acc: 0.7659 - val_loss: 0.7376 - val_acc: 0.6806\n",
      "Epoch 33/50\n",
      "5084/5084 [==============================] - 12s - loss: 0.4543 - acc: 0.7604 - val_loss: 0.7386 - val_acc: 0.6664\n",
      "Epoch 34/50\n",
      "5084/5084 [==============================] - 12s - loss: 0.4521 - acc: 0.7758 - val_loss: 0.8040 - val_acc: 0.6719\n",
      "Epoch 35/50\n",
      "5084/5084 [==============================] - 12s - loss: 0.4449 - acc: 0.7797 - val_loss: 0.8022 - val_acc: 0.6404\n",
      "Epoch 36/50\n",
      "5084/5084 [==============================] - 12s - loss: 0.4415 - acc: 0.7815 - val_loss: 0.7715 - val_acc: 0.6743\n",
      "Epoch 37/50\n",
      "5084/5084 [==============================] - 12s - loss: 0.4366 - acc: 0.7781 - val_loss: 0.7731 - val_acc: 0.6538\n",
      "Epoch 38/50\n",
      "5084/5084 [==============================] - 12s - loss: 0.4266 - acc: 0.7856 - val_loss: 0.7754 - val_acc: 0.6751\n",
      "Epoch 39/50\n",
      "5084/5084 [==============================] - 13s - loss: 0.4199 - acc: 0.7868 - val_loss: 1.0433 - val_acc: 0.6247\n",
      "Epoch 40/50\n",
      "5084/5084 [==============================] - 12s - loss: 0.4218 - acc: 0.7872 - val_loss: 0.8640 - val_acc: 0.6365\n",
      "Epoch 41/50\n",
      "5084/5084 [==============================] - 12s - loss: 0.4134 - acc: 0.7952 - val_loss: 0.9732 - val_acc: 0.6625\n",
      "Epoch 42/50\n",
      "5084/5084 [==============================] - 12s - loss: 0.4158 - acc: 0.7982 - val_loss: 0.8413 - val_acc: 0.6515\n",
      "Epoch 43/50\n",
      "5084/5084 [==============================] - 13s - loss: 0.4007 - acc: 0.8043 - val_loss: 0.8043 - val_acc: 0.6011\n",
      "Epoch 44/50\n",
      "5084/5084 [==============================] - 13s - loss: 0.3950 - acc: 0.8082 - val_loss: 0.9750 - val_acc: 0.6711\n",
      "Epoch 45/50\n",
      "5084/5084 [==============================] - 13s - loss: 0.3980 - acc: 0.8078 - val_loss: 0.8397 - val_acc: 0.6625\n",
      "Epoch 46/50\n",
      "5084/5084 [==============================] - 13s - loss: 0.3847 - acc: 0.8098 - val_loss: 0.7931 - val_acc: 0.6640\n",
      "Epoch 47/50\n",
      "5084/5084 [==============================] - 13s - loss: 0.3879 - acc: 0.8090 - val_loss: 0.9627 - val_acc: 0.6648\n",
      "Epoch 48/50\n",
      "5084/5084 [==============================] - 13s - loss: 0.3922 - acc: 0.8141 - val_loss: 0.8599 - val_acc: 0.6672\n",
      "Epoch 49/50\n",
      "5084/5084 [==============================] - 13s - loss: 0.3832 - acc: 0.8155 - val_loss: 0.8949 - val_acc: 0.6452\n",
      "Epoch 50/50\n",
      "5084/5084 [==============================] - 13s - loss: 0.3733 - acc: 0.8127 - val_loss: 0.9446 - val_acc: 0.6452\n"
     ]
    }
   ],
   "source": [
    "model5 = Sequential()\n",
    "model5.add(Dense(524, activation='relu', input_shape=(15,)))\n",
    "model5.add(Dense(524, activation='relu'))\n",
    "model5.add(Dense(1024, activation='relu'))\n",
    "model5.add(Dense(1024, activation='relu'))\n",
    "model5.add(Dense(2048, activation='relu'))\n",
    "model5.add(Dense(2048, activation='relu'))\n",
    "model5.add(Dense(2, activation='softmax'))\n",
    "model5.summary()\n",
    "\n",
    "model5.compile(optimizer=RMSprop(),\n",
    "             loss='categorical_crossentropy',\n",
    "             metrics = ['accuracy'])\n",
    "model5_fit = model5.fit(x_train, \n",
    "          y_train, \n",
    "          batch_size = batch_size, \n",
    "          epochs = epochs, \n",
    "          validation_split = .2,\n",
    "          verbose = 1\n",
    ")"
   ]
  },
  {
   "cell_type": "code",
   "execution_count": 57,
   "metadata": {},
   "outputs": [
    {
     "name": "stdout",
     "output_type": "stream",
     "text": [
      "1568/1589 [============================>.] - ETA: 0s"
     ]
    }
   ],
   "source": [
    "y_hat5 = model5.predict_classes(x_test)"
   ]
  },
  {
   "cell_type": "code",
   "execution_count": 58,
   "metadata": {},
   "outputs": [
    {
     "data": {
      "text/html": [
       "<div>\n",
       "<table border=\"1\" class=\"dataframe\">\n",
       "  <thead>\n",
       "    <tr style=\"text-align: right;\">\n",
       "      <th>category</th>\n",
       "      <th>0</th>\n",
       "      <th>1</th>\n",
       "    </tr>\n",
       "    <tr>\n",
       "      <th>row_0</th>\n",
       "      <th></th>\n",
       "      <th></th>\n",
       "    </tr>\n",
       "  </thead>\n",
       "  <tbody>\n",
       "    <tr>\n",
       "      <th>0</th>\n",
       "      <td>262</td>\n",
       "      <td>283</td>\n",
       "    </tr>\n",
       "    <tr>\n",
       "      <th>1</th>\n",
       "      <td>316</td>\n",
       "      <td>728</td>\n",
       "    </tr>\n",
       "  </tbody>\n",
       "</table>\n",
       "</div>"
      ],
      "text/plain": [
       "category    0    1\n",
       "row_0             \n",
       "0         262  283\n",
       "1         316  728"
      ]
     },
     "execution_count": 58,
     "metadata": {},
     "output_type": "execute_result"
    }
   ],
   "source": [
    "pd.crosstab(y_hat5, y_test_1)"
   ]
  },
  {
   "cell_type": "code",
   "execution_count": 59,
   "metadata": {},
   "outputs": [
    {
     "name": "stdout",
     "output_type": "stream",
     "text": [
      "599\n"
     ]
    }
   ],
   "source": [
    "test_wrong = [im for im in zip(x_test, y_hat5, y_test_1) if im[1] != im[2]]\n",
    "print(len(test_wrong))"
   ]
  },
  {
   "cell_type": "code",
   "execution_count": 100,
   "metadata": {},
   "outputs": [
    {
     "data": {
      "image/png": "[encoded data removed]",
      "text/plain": [
       "<matplotlib.figure.Figure at 0x7f930155c208>"
      ]
     },
     "metadata": {},
     "output_type": "display_data"
    }
   ],
   "source": [
    "acc_plot(model5_fit)"
   ]
  },
  {
   "cell_type": "code",
   "execution_count": 61,
   "metadata": {},
   "outputs": [
    {
     "name": "stdout",
     "output_type": "stream",
     "text": [
      "1589/1589 [==============================] - 1s     \n"
     ]
    },
    {
     "data": {
      "text/plain": [
       "0.6230333546859953"
      ]
     },
     "execution_count": 61,
     "metadata": {},
     "output_type": "execute_result"
    }
   ],
   "source": [
    "model5_test_acc = model5.evaluate(x_test,y_test)[1]\n",
    "model5_test_acc"
   ]
  },
  {
   "cell_type": "code",
   "execution_count": 66,
   "metadata": {},
   "outputs": [
    {
     "data": {
      "text/plain": [
       "0.81274586915969849"
      ]
     },
     "execution_count": 66,
     "metadata": {},
     "output_type": "execute_result"
    }
   ],
   "source": [
    "model5_train_acc = model5_fit.history['acc'][epochs-1]\n",
    "model5_train_acc"
   ]
  },
  {
   "cell_type": "markdown",
   "metadata": {},
   "source": [
    "### Final plot which compares all models based on Training accuracy and Test accuracy"
   ]
  },
  {
   "cell_type": "code",
   "execution_count": null,
   "metadata": {
    "collapsed": true
   },
   "outputs": [],
   "source": [
    "train_acc_final = [model1_train_acc,model2_train_acc,model3_train_acc,model4_train_acc,model5_train_acc]\n",
    "test_acc_final = [model1_test_acc,model2_test_acc,model3_test_acc,model4_test_acc,model5_test_acc]\n",
    "x = [1,2,3,4,5]"
   ]
  },
  {
   "cell_type": "code",
   "execution_count": 157,
   "metadata": {},
   "outputs": [
    {
     "data": {
      "image/png": "[encoded data removed]",
      "text/plain": [
       "<matplotlib.figure.Figure at 0x7f9301341240>"
      ]
     },
     "metadata": {},
     "output_type": "display_data"
    }
   ],
   "source": [
    "plt.plot(x,train_acc_final,label='train data')\n",
    "plt.legend()\n",
    "plt.plot(x,test_acc_final,label='test data')\n",
    "plt.legend()\n",
    "plt.xlabel('Model Number')\n",
    "plt.ylabel('Accuracy')\n",
    "plt.title('Models based on Training and Test accuracy')\n",
    "plt.show()"
   ]
  },
  {
   "cell_type": "code",
   "execution_count": 101,
   "metadata": {},
   "outputs": [
    {
     "data": {
      "text/plain": [
       "([0.74881982667346714,\n",
       "  0.81510621525001381,\n",
       "  0.81471282407864165,\n",
       "  0.82120377603804007,\n",
       "  0.81274586915969849],\n",
       " [0.66834487128812914,\n",
       "  0.65512901214475971,\n",
       "  0.650723725876169,\n",
       "  0.64128382660593908,\n",
       "  0.6230333546859953])"
      ]
     },
     "execution_count": 101,
     "metadata": {},
     "output_type": "execute_result"
    }
   ],
   "source": [
    "train_acc_final,test_acc_final"
   ]
  },
  {
   "cell_type": "markdown",
   "metadata": {},
   "source": [
    "### Early Stopping"
   ]
  },
  {
   "cell_type": "code",
   "execution_count": 160,
   "metadata": {},
   "outputs": [],
   "source": [
    "z = [keras.callbacks.EarlyStopping(monitor=\"val_acc\", min_delta=0.01, patience=3, verbose=1, mode='max')]"
   ]
  },
  {
   "cell_type": "code",
   "execution_count": 161,
   "metadata": {
    "scrolled": true
   },
   "outputs": [
    {
     "name": "stdout",
     "output_type": "stream",
     "text": [
      "Train on 5084 samples, validate on 1271 samples\n",
      "Epoch 1/50\n",
      "12s - loss: 0.3241 - acc: 0.8611 - val_loss: 1.1529 - val_acc: 0.6507\n",
      "Epoch 2/50\n",
      "12s - loss: 0.3073 - acc: 0.8633 - val_loss: 1.2350 - val_acc: 0.6444\n",
      "Epoch 3/50\n",
      "11s - loss: 0.3083 - acc: 0.8605 - val_loss: 1.3119 - val_acc: 0.6475\n",
      "Epoch 4/50\n",
      "12s - loss: 0.3048 - acc: 0.8637 - val_loss: 1.0322 - val_acc: 0.6648\n",
      "Epoch 5/50\n",
      "12s - loss: 0.2918 - acc: 0.8631 - val_loss: 1.2449 - val_acc: 0.6664\n",
      "Epoch 6/50\n",
      "12s - loss: 0.2881 - acc: 0.8633 - val_loss: 1.1513 - val_acc: 0.6522\n",
      "Epoch 7/50\n",
      "13s - loss: 0.2873 - acc: 0.8718 - val_loss: 1.0588 - val_acc: 0.6499\n",
      "Epoch 8/50\n",
      "14s - loss: 0.2800 - acc: 0.8662 - val_loss: 1.1474 - val_acc: 0.6515\n",
      "Epoch 00007: early stopping\n"
     ]
    }
   ],
   "source": [
    "model5_fit = model5.fit(x_train, \n",
    "          y_train, \n",
    "          batch_size = batch_size, \n",
    "          epochs = epochs, \n",
    "          validation_split = .2,\n",
    "          verbose = 2,\n",
    "          callbacks = z\n",
    ")"
   ]
  },
  {
   "cell_type": "code",
   "execution_count": null,
   "metadata": {
    "collapsed": true
   },
   "outputs": [],
   "source": []
  }
 ],
 "metadata": {
  "kernelspec": {
   "display_name": "Python 3",
   "language": "python",
   "name": "python3"
  },
  "language_info": {
   "codemirror_mode": {
    "name": "ipython",
    "version": 3
   },
   "file_extension": ".py",
   "mimetype": "text/x-python",
   "name": "python",
   "nbconvert_exporter": "python",
   "pygments_lexer": "ipython3",
   "version": "3.5.2"
  }
 },
 "nbformat": 4,
 "nbformat_minor": 2
}
