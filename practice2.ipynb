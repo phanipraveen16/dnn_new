{
 "cells": [
  {
   "cell_type": "code",
   "execution_count": 1,
   "metadata": {
    "collapsed": false
   },
   "outputs": [
    {
     "name": "stderr",
     "output_type": "stream",
     "text": [
      "/home/user/classification/lib/python3.5/site-packages/sklearn/cross_validation.py:44: DeprecationWarning: This module was deprecated in version 0.18 in favor of the model_selection module into which all the refactored classes and functions are moved. Also note that the interface of the new CV iterators are different from that of this module. This module will be removed in 0.20.\n",
      "  \"This module will be removed in 0.20.\", DeprecationWarning)\n",
      "Using TensorFlow backend.\n"
     ]
    }
   ],
   "source": [
    "import numpy as np\n",
    "import matplotlib.pyplot as plt\n",
    "import math\n",
    "from sklearn import cross_validation\n",
    "import plotly.plotly as py\n",
    "import plotly.graph_objs as go\n",
    "from plotly.offline import plot    \n",
    "import plotly.graph_objs as go\n",
    "import pandas as pd\n",
    "from keras.models import Sequential\n",
    "from keras.layers import Dense, Dropout\n",
    "from keras.optimizers import RMSprop\n",
    "from sklearn.cross_validation import train_test_split\n",
    "import keras"
   ]
  },
  {
   "cell_type": "code",
   "execution_count": 6,
   "metadata": {
    "collapsed": false
   },
   "outputs": [
    {
     "name": "stdout",
     "output_type": "stream",
     "text": [
      "[[ 0  1  2  3]\n",
      " [ 4  5  6  7]\n",
      " [ 8  9 10 11]\n",
      " [12 13 14 15]]\n",
      "----\n",
      "[[0 1]\n",
      " [4 5]]\n",
      "----\n",
      "[[2 3]\n",
      " [6 7]]\n",
      "----\n",
      "[[ 8  9]\n",
      " [12 13]]\n",
      "----\n",
      "[[10 11]\n",
      " [14 15]]\n"
     ]
    }
   ],
   "source": [
    "a=np.arange(16).reshape(4,4)\n",
    "print(a)\n",
    "numrows = len(a)    \n",
    "numcols = len(a[0])\n",
    "i=0\n",
    "while(i<numrows):\n",
    "    j=0\n",
    "    while(j<numcols):\n",
    "        maty = np.matrix([[a[i][j],a[i][j+1]], [a[i+1][j],a[i+1][j+1]]])\n",
    "        print(\"----\")\n",
    "        print(maty)\n",
    "        j+=2\n",
    "    i+=2    \n",
    "        "
   ]
  },
  {
   "cell_type": "code",
   "execution_count": 15,
   "metadata": {
    "collapsed": true
   },
   "outputs": [],
   "source": [
    "def max_pool(a,stride):\n",
    "    #print(a)\n",
    "    if(stride == 1):\n",
    "        lists = []\n",
    "        for k in range(len(a)):\n",
    "            b = []\n",
    "            for row in a[k]:\n",
    "                b.append(row)\n",
    "            lists.append(np.array(b))\n",
    "        numrows = len(lists[0])    \n",
    "        numcols = len(lists[0][0])\n",
    "        for p in range(len(lists)):\n",
    "            sums = []\n",
    "            for i in range(numrows):\n",
    "                for j in range(numcols):                \n",
    "                    try:\n",
    "                        maty = np.matrix([[lists[p][i][j],lists[p][i][j+1]], [lists[p][i+1][j],lists[p][i+1][j+1]]])\n",
    "                        l = maty.max()\n",
    "                        sums.append(l)\n",
    "                    except:\n",
    "                        continue\n",
    "            sums1 = np.asarray(sums)\n",
    "            try:\n",
    "                B = np.reshape(sums1, (3, 3))\n",
    "                print(B)\n",
    "            except:\n",
    "                continue\n",
    "    else:\n",
    "        print(\"hi\")\n",
    "        lists = []\n",
    "        for k in range(len(a)):            \n",
    "            b = []\n",
    "            for row in a[k]:\n",
    "                b.append(row)\n",
    "            lists.append(np.array(b))\n",
    "        numrows = len(lists[0])    \n",
    "        numcols = len(lists[0][0])\n",
    "        for p in range(len(lists)):\n",
    "            sums = []\n",
    "            i=0\n",
    "            while(i<numrows):\n",
    "                j=0\n",
    "                while(j<numcols):\n",
    "                    maty = np.matrix([[lists[p][i][j],lists[p][i][j+1]], [lists[p][i+1][j],lists[p][i+1][j+1]]])\n",
    "                    #print(\"----\")\n",
    "                    #print(maty)\n",
    "                    l = maty.max()\n",
    "                    sums.append(l)\n",
    "                    j+=2\n",
    "                i+=2\n",
    "                sums1 = np.asarray(sums)\n",
    "            try:\n",
    "                B = np.reshape(sums1, (2, 2))\n",
    "                print(B)\n",
    "            except:\n",
    "                continue   "
   ]
  },
  {
   "cell_type": "code",
   "execution_count": 17,
   "metadata": {
    "collapsed": false
   },
   "outputs": [
    {
     "name": "stdout",
     "output_type": "stream",
     "text": [
      "[[ 5  6  7]\n",
      " [ 9 10 11]\n",
      " [13 14 15]]\n"
     ]
    }
   ],
   "source": [
    "a=np.arange(16).reshape(1,4,4)\n",
    "#len(a)\n",
    "#print(a)\n",
    "max_pool(a,1)"
   ]
  },
  {
   "cell_type": "code",
   "execution_count": null,
   "metadata": {
    "collapsed": true
   },
   "outputs": [],
   "source": []
  }
 ],
 "metadata": {
  "kernelspec": {
   "display_name": "Python 3",
   "language": "python",
   "name": "python3"
  },
  "language_info": {
   "codemirror_mode": {
    "name": "ipython",
    "version": 3
   },
   "file_extension": ".py",
   "mimetype": "text/x-python",
   "name": "python",
   "nbconvert_exporter": "python",
   "pygments_lexer": "ipython3",
   "version": "3.5.2"
  }
 },
 "nbformat": 4,
 "nbformat_minor": 2
}
