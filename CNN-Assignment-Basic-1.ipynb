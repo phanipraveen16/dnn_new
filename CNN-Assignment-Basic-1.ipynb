{
 "cells": [
  {
   "cell_type": "markdown",
   "metadata": {
    "deletable": true,
    "editable": true
   },
   "source": [
    "# What is CNN ?\n",
    "\n",
    "\n",
    "#### A CNN is a neural network that typically contains several types of layers, which includes :-\n",
    "\n",
    "* convolutional layer \n",
    "* pooling layer, and \n",
    "* activation layer."
   ]
  },
  {
   "cell_type": "markdown",
   "metadata": {
    "deletable": true,
    "editable": true
   },
   "source": [
    "## Convolutional Layer\n",
    "\n",
    "* To understand what a CNN is, you need to understand how convolutions work. \n",
    "\n",
    "* Imagine you have an image represented as a 5x5 matrix of values, and you take a 3x3 matrix and slide that 3x3 window around the image. \n",
    "\n",
    "* At each position the 3x3 visits, you matrix multiply the values of your 3x3 window by the values in the image that are currently being covered by the window. \n",
    "\n",
    "* This results in a single number the represents all the values in that window of the image. \n",
    "\n",
    "Here’s a gif for clarity:"
   ]
  },
  {
   "cell_type": "markdown",
   "metadata": {
    "deletable": true,
    "editable": true
   },
   "source": [
    "![Conv Gif](./conv.gif)"
   ]
  },
  {
   "cell_type": "markdown",
   "metadata": {
    "deletable": true,
    "editable": true
   },
   "source": [
    "## Level - 1 - Code the Convolutional Layer\n"
   ]
  },
  {
   "cell_type": "markdown",
   "metadata": {
    "deletable": true,
    "editable": true
   },
   "source": [
    "![Detailed Conv Gif](./conv_detailed.gif)"
   ]
  },
  {
   "cell_type": "markdown",
   "metadata": {
    "deletable": true,
    "editable": true
   },
   "source": [
    "### Question 1"
   ]
  },
  {
   "cell_type": "code",
   "execution_count": 1,
   "metadata": {
    "collapsed": true,
    "deletable": true,
    "editable": true
   },
   "outputs": [],
   "source": [
    "# Write a function which does the convolution.\n",
    "# Code for a 3d Matrix\n",
    "# Before writing out code, write function header with parameters and get it reviewed by Mentors"
   ]
  },
  {
   "cell_type": "code",
   "execution_count": 2,
   "metadata": {
    "collapsed": false,
    "deletable": true,
    "editable": true
   },
   "outputs": [
    {
     "name": "stderr",
     "output_type": "stream",
     "text": [
      "/home/user/classification/lib/python3.5/site-packages/sklearn/cross_validation.py:44: DeprecationWarning: This module was deprecated in version 0.18 in favor of the model_selection module into which all the refactored classes and functions are moved. Also note that the interface of the new CV iterators are different from that of this module. This module will be removed in 0.20.\n",
      "  \"This module will be removed in 0.20.\", DeprecationWarning)\n",
      "Using TensorFlow backend.\n"
     ]
    }
   ],
   "source": [
    "import numpy as np\n",
    "import matplotlib.pyplot as plt\n",
    "import math\n",
    "from sklearn import cross_validation\n",
    "import plotly.plotly as py\n",
    "import plotly.graph_objs as go\n",
    "from plotly.offline import plot    \n",
    "import plotly.graph_objs as go\n",
    "import pandas as pd\n",
    "from keras.models import Sequential\n",
    "from keras.layers import Dense, Dropout\n",
    "from keras.optimizers import RMSprop\n",
    "from sklearn.cross_validation import train_test_split\n",
    "import keras"
   ]
  },
  {
   "cell_type": "code",
   "execution_count": 20,
   "metadata": {
    "collapsed": false,
    "deletable": true,
    "editable": true
   },
   "outputs": [],
   "source": [
    "def convo(a):\n",
    "    lists = []\n",
    "    for k in range(len(a)):\n",
    "        b = []\n",
    "        for row in a[k]:\n",
    "            b.append(row)\n",
    "        lists.append(np.array(b))\n",
    "    numrows = len(lists[0])    \n",
    "    numcols = len(lists[0][0])\n",
    "    for p in range(len(lists)):\n",
    "        sums = []\n",
    "        for i in range(numrows):\n",
    "            for j in range(numcols):\n",
    "                \n",
    "                try:\n",
    "                    maty = np.matrix([[lists[p][i][j],lists[p][i][j+1],lists[p][i][j+2]], [lists[p][i+1][j],lists[p][i+1][j+1],lists[p][i+1][j+2]],\n",
    "                                          [lists[p][i+2][j],lists[p][i+2][j+1],lists[p][i+2][j+2]]])\n",
    "                    random_mat = np.random.randint(2, size=(3, 3))\n",
    "                    multi = np.multiply(maty,random_mat)\n",
    "                    l = np.sum(multi)\n",
    "                    sums.append(l)\n",
    "                except:\n",
    "                    continue\n",
    "        sums1 = np.asarray(sums)\n",
    "        try:\n",
    "            B = np.reshape(sums1, (3, 3))\n",
    "            print(B)\n",
    "            print(\"--------------\")\n",
    "        except:\n",
    "            try:\n",
    "                size1 = int(np.sqrt(sums1.size)) \n",
    "                B = np.reshape(sums1, (size1, size1))\n",
    "                print(B)\n",
    "            except:\n",
    "                print(sums1)\n",
    "\n",
    "                \n",
    "            \n"
   ]
  },
  {
   "cell_type": "code",
   "execution_count": 21,
   "metadata": {
    "collapsed": false,
    "deletable": true,
    "editable": true
   },
   "outputs": [
    {
     "name": "stdout",
     "output_type": "stream",
     "text": [
      "[[ 16  17  50]\n",
      " [ 44  42  71]\n",
      " [ 65 103  86]]\n",
      "--------------\n"
     ]
    }
   ],
   "source": [
    "a=np.arange(25).reshape(1,5,5)\n",
    "convo(a)"
   ]
  },
  {
   "cell_type": "markdown",
   "metadata": {
    "deletable": true,
    "editable": true
   },
   "source": [
    "## Pooling Layers\n",
    "\n",
    "* Pooling works very much like convoluting, where we take a kernel and move the kernel over the image, the only difference is the function that is applied to the kernel and the image window isn’t linear.\n",
    "\n",
    "* Max pooling and Average pooling are the most common pooling functions. \n",
    "\n",
    "* Max pooling takes the largest value from the window of the image currently covered by the kernel, while average pooling takes the average of all values in the window."
   ]
  },
  {
   "cell_type": "markdown",
   "metadata": {
    "deletable": true,
    "editable": true
   },
   "source": [
    "![Pooling Gif](./pooling.gif)"
   ]
  },
  {
   "cell_type": "markdown",
   "metadata": {
    "deletable": true,
    "editable": true
   },
   "source": [
    "## Level - 2 - Code the Pooling Layer"
   ]
  },
  {
   "cell_type": "markdown",
   "metadata": {
    "deletable": true,
    "editable": true
   },
   "source": [
    "![Detailed Conv Gif](./Max_pooling.png)"
   ]
  },
  {
   "cell_type": "markdown",
   "metadata": {
    "deletable": true,
    "editable": true
   },
   "source": [
    "### Question 1"
   ]
  },
  {
   "cell_type": "code",
   "execution_count": 5,
   "metadata": {
    "collapsed": true,
    "deletable": true,
    "editable": true
   },
   "outputs": [],
   "source": [
    "# Write a function which does the max pooling.\n",
    "# Code for a 3d Matrix\n",
    "# Before writing out code, write function header with parameters and get it reviewed by Mentors"
   ]
  },
  {
   "cell_type": "code",
   "execution_count": 8,
   "metadata": {
    "collapsed": true,
    "deletable": true,
    "editable": true
   },
   "outputs": [],
   "source": [
    "def max_pool(a,stride):\n",
    "    #print(a)\n",
    "    if(stride == 1):\n",
    "        lists = []\n",
    "        for k in range(len(a)):\n",
    "            b = []\n",
    "            for row in a[k]:\n",
    "                b.append(row)\n",
    "            lists.append(np.array(b))\n",
    "        numrows = len(lists[0])    \n",
    "        numcols = len(lists[0][0])\n",
    "        for p in range(len(lists)):\n",
    "            sums = []\n",
    "            for i in range(numrows):\n",
    "                for j in range(numcols):                \n",
    "                    try:\n",
    "                        maty = np.matrix([[lists[p][i][j],lists[p][i][j+1]], [lists[p][i+1][j],lists[p][i+1][j+1]]])\n",
    "                        l = maty.max()\n",
    "                        sums.append(l)\n",
    "                    except:\n",
    "                        continue\n",
    "            sums1 = np.asarray(sums)\n",
    "            try:\n",
    "                B = np.reshape(sums1, (3, 3))\n",
    "                print(B)\n",
    "            except:\n",
    "                try:\n",
    "                    size1 = int(np.sqrt(sums1.size)) \n",
    "                    B = np.reshape(sums1, (size1, size1))\n",
    "                    print(B)  \n",
    "                except:\n",
    "                    print(sums1)\n",
    "\n",
    "    else:\n",
    "        lists = []\n",
    "        for k in range(len(a)):            \n",
    "            b = []\n",
    "            for row in a[k]:\n",
    "                b.append(row)\n",
    "            lists.append(np.array(b))\n",
    "        numrows = len(lists[0])    \n",
    "        numcols = len(lists[0][0])\n",
    "        for p in range(len(lists)):\n",
    "            sums = []\n",
    "            i=0\n",
    "            while(i<numrows):\n",
    "                j=0\n",
    "                while(j<numcols):\n",
    "                    try:                        \n",
    "                        maty = np.matrix([[lists[p][i][j],lists[p][i][j+1]], [lists[p][i+1][j],lists[p][i+1][j+1]]])\n",
    "                        #print(\"----\")\n",
    "                        #print(maty)\n",
    "                        l = maty.max()\n",
    "                        sums.append(l)\n",
    "                    except:\n",
    "                        print(\"---\")\n",
    "                    j+=2\n",
    "                i+=2\n",
    "                sums1 = np.asarray(sums)\n",
    "            try:\n",
    "                B = np.reshape(sums1, (2, 2))\n",
    "                print(B)\n",
    "            except:\n",
    "                print(sums1)   "
   ]
  },
  {
   "cell_type": "code",
   "execution_count": 22,
   "metadata": {
    "collapsed": false,
    "deletable": true,
    "editable": true
   },
   "outputs": [
    {
     "name": "stdout",
     "output_type": "stream",
     "text": [
      "[[ 8  9 10 11 12 13]\n",
      " [15 16 17 18 19 20]\n",
      " [22 23 24 25 26 27]\n",
      " [29 30 31 32 33 34]\n",
      " [36 37 38 39 40 41]\n",
      " [43 44 45 46 47 48]]\n"
     ]
    }
   ],
   "source": [
    "a=np.arange(49).reshape(1,7,7)\n",
    "#len(a)\n",
    "#print(a)\n",
    "max_pool(a,1)"
   ]
  },
  {
   "cell_type": "markdown",
   "metadata": {
    "deletable": true,
    "editable": true
   },
   "source": [
    "### Question 2"
   ]
  },
  {
   "cell_type": "code",
   "execution_count": 8,
   "metadata": {
    "collapsed": true,
    "deletable": true,
    "editable": true
   },
   "outputs": [],
   "source": [
    "# Write a function which does the average convolution.\n",
    "# Code for a 3d Matrix\n",
    "# Before writing out code, write function header with parameters and get it reviewed by Mentors"
   ]
  },
  {
   "cell_type": "code",
   "execution_count": 46,
   "metadata": {
    "collapsed": true,
    "deletable": true,
    "editable": true
   },
   "outputs": [],
   "source": [
    "def max_pool(a,stride):\n",
    "    #print(a)\n",
    "    if(stride == 1):\n",
    "        lists = []\n",
    "        for k in range(len(a)):\n",
    "            b = []\n",
    "            for row in a[k]:\n",
    "                b.append(row)\n",
    "            lists.append(np.array(b))\n",
    "        numrows = len(lists[0])    \n",
    "        numcols = len(lists[0][0])\n",
    "        for p in range(len(lists)):\n",
    "            sums = []\n",
    "            for i in range(numrows):\n",
    "                for j in range(numcols):                \n",
    "                    try:\n",
    "                        maty = np.matrix([[lists[p][i][j],lists[p][i][j+1]], [lists[p][i+1][j],lists[p][i+1][j+1]]])\n",
    "                        l = maty.mean()\n",
    "                        sums.append(l)\n",
    "                    except:\n",
    "                        continue\n",
    "            sums1 = np.asarray(sums)\n",
    "            try:\n",
    "                B = np.reshape(sums1, (3, 3))\n",
    "                print(B)\n",
    "            except:\n",
    "                size1 = int(np.sqrt(sums1.size)) \n",
    "                B = np.reshape(sums1, (size1, size1))\n",
    "                print(B)\n",
    "    else:\n",
    "        lists = []\n",
    "        for k in range(len(a)):            \n",
    "            b = []\n",
    "            for row in a[k]:\n",
    "                b.append(row)\n",
    "            lists.append(np.array(b))\n",
    "        numrows = len(lists[0])    \n",
    "        numcols = len(lists[0][0])\n",
    "        for p in range(len(lists)):\n",
    "            sums = []\n",
    "            i=0\n",
    "            while(i<numrows):\n",
    "                j=0\n",
    "                while(j<numcols):\n",
    "                    try:                        \n",
    "                        maty = np.matrix([[lists[p][i][j],lists[p][i][j+1]], [lists[p][i+1][j],lists[p][i+1][j+1]]])\n",
    "                        #print(\"----\")\n",
    "                        #print(maty)\n",
    "                        l = maty.mean()\n",
    "                        sums.append(l)\n",
    "                    except:\n",
    "                        print(\"---\")\n",
    "                    j+=2\n",
    "                i+=2\n",
    "                sums1 = np.asarray(sums)\n",
    "            try:\n",
    "                B = np.reshape(sums1, (2, 2))\n",
    "                print(B)\n",
    "            except:\n",
    "                print(sums1)   "
   ]
  },
  {
   "cell_type": "code",
   "execution_count": 47,
   "metadata": {
    "collapsed": false,
    "deletable": true,
    "editable": true
   },
   "outputs": [
    {
     "name": "stdout",
     "output_type": "stream",
     "text": [
      "[[  3.   4.   5.   6.]\n",
      " [  8.   9.  10.  11.]\n",
      " [ 13.  14.  15.  16.]\n",
      " [ 18.  19.  20.  21.]]\n"
     ]
    }
   ],
   "source": [
    "a=np.arange(25).reshape(1,5,5)\n",
    "max_pool(a,1)"
   ]
  },
  {
   "cell_type": "markdown",
   "metadata": {
    "deletable": true,
    "editable": true
   },
   "source": [
    "# Lets Load an image and visualize the Conv and Pool"
   ]
  },
  {
   "cell_type": "markdown",
   "metadata": {
    "deletable": true,
    "editable": true
   },
   "source": [
    "### Load the Conv and Max pool using Keras"
   ]
  },
  {
   "cell_type": "markdown",
   "metadata": {
    "deletable": true,
    "editable": true
   },
   "source": [
    "### Display the image"
   ]
  },
  {
   "cell_type": "code",
   "execution_count": 17,
   "metadata": {
    "collapsed": false,
    "deletable": true,
    "editable": true
   },
   "outputs": [],
   "source": [
    "import cv2\n",
    "%matplotlib inline\n",
    "image = cv2.imread('beer.png') # Please load different Images to explore "
   ]
  },
  {
   "cell_type": "code",
   "execution_count": 18,
   "metadata": {
    "collapsed": false,
    "deletable": true,
    "editable": true
   },
   "outputs": [
    {
     "data": {
      "text/plain": [
       "<matplotlib.image.AxesImage at 0x7f26f9feed30>"
      ]
     },
     "execution_count": 18,
     "metadata": {},
     "output_type": "execute_result"
    },
    {
     "data": {
      "image/png": "[encoded data removed]",
      "text/plain": [
       "<matplotlib.figure.Figure at 0x7f26fa03c1d0>"
      ]
     },
     "metadata": {},
     "output_type": "display_data"
    }
   ],
   "source": [
    "plt.imshow(image)"
   ]
  },
  {
   "cell_type": "code",
   "execution_count": 16,
   "metadata": {
    "collapsed": false,
    "deletable": true,
    "editable": true
   },
   "outputs": [
    {
     "data": {
      "text/plain": [
       "(1384, 1310, 3)"
      ]
     },
     "execution_count": 16,
     "metadata": {},
     "output_type": "execute_result"
    }
   ],
   "source": [
    "# what does the image look like?\n",
    "image.shape"
   ]
  },
  {
   "cell_type": "markdown",
   "metadata": {
    "deletable": true,
    "editable": true
   },
   "source": [
    "## Level 3 - Performing and Understading Convolutions "
   ]
  },
  {
   "cell_type": "markdown",
   "metadata": {
    "deletable": true,
    "editable": true
   },
   "source": [
    "### Question 1 "
   ]
  },
  {
   "cell_type": "markdown",
   "metadata": {
    "deletable": true,
    "editable": true
   },
   "source": [
    "### Why it has 3 dimensions ?? "
   ]
  },
  {
   "cell_type": "markdown",
   "metadata": {
    "deletable": true,
    "editable": true
   },
   "source": [
    "Answer - "
   ]
  },
  {
   "cell_type": "markdown",
   "metadata": {
    "deletable": true,
    "editable": true
   },
   "source": [
    "## Play Around with below code to enhance your understanding of CNN"
   ]
  },
  {
   "cell_type": "markdown",
   "metadata": {
    "deletable": true,
    "editable": true
   },
   "source": [
    "## Lets create a model with 1 Convolutional layer"
   ]
  },
  {
   "cell_type": "markdown",
   "metadata": {
    "deletable": true,
    "editable": true
   },
   "source": [
    "### Question 2"
   ]
  },
  {
   "cell_type": "markdown",
   "metadata": {
    "deletable": true,
    "editable": true
   },
   "source": [
    "### Please fill in the comments "
   ]
  },
  {
   "cell_type": "code",
   "execution_count": null,
   "metadata": {
    "collapsed": true,
    "deletable": true,
    "editable": true
   },
   "outputs": [],
   "source": [
    "model = Sequential()\n",
    "model.add(Convolution2D(3,    # number of ____________\n",
    "                        (3,    # ___________ dimension of kernel \n",
    "                        3),    # ___________ dimension of kernel\n",
    "                        input_shape=image.shape))"
   ]
  },
  {
   "cell_type": "code",
   "execution_count": null,
   "metadata": {
    "collapsed": true,
    "deletable": true,
    "editable": true
   },
   "outputs": [],
   "source": [
    "image_batch = np.expand_dims(image,axis=0)"
   ]
  },
  {
   "cell_type": "markdown",
   "metadata": {
    "deletable": true,
    "editable": true
   },
   "source": [
    "### Question 3"
   ]
  },
  {
   "cell_type": "markdown",
   "metadata": {
    "deletable": true,
    "editable": true
   },
   "source": [
    "### What Happens if we dont expand the dims of image ? Why we need to do it ?\n"
   ]
  },
  {
   "cell_type": "markdown",
   "metadata": {
    "deletable": true,
    "editable": true
   },
   "source": [
    "Answer -"
   ]
  },
  {
   "cell_type": "code",
   "execution_count": null,
   "metadata": {
    "collapsed": false,
    "deletable": true,
    "editable": true
   },
   "outputs": [],
   "source": [
    "image_batch.shape"
   ]
  },
  {
   "cell_type": "code",
   "execution_count": null,
   "metadata": {
    "collapsed": true,
    "deletable": true,
    "editable": true
   },
   "outputs": [],
   "source": [
    "conv_image = model.predict(image_batch)"
   ]
  },
  {
   "cell_type": "code",
   "execution_count": null,
   "metadata": {
    "collapsed": false,
    "deletable": true,
    "editable": true
   },
   "outputs": [],
   "source": [
    "plt.imshow(np.squeeze(conv_image, axis=0))"
   ]
  },
  {
   "cell_type": "code",
   "execution_count": null,
   "metadata": {
    "collapsed": true,
    "deletable": true,
    "editable": true
   },
   "outputs": [],
   "source": [
    "def visualize_image(model, image):\n",
    "\n",
    "    image_batch = np.expand_dims(image,axis=0)\n",
    "    conv_image = model.predict(image_batch)\n",
    "    \n",
    "    # here we get rid of that added dimension and plot the image\n",
    "    conv_image = np.squeeze(conv_image, axis=0)\n",
    "    \n",
    "    print (conv_image.shape)\n",
    "    plt.imshow(conv_image)"
   ]
  },
  {
   "cell_type": "code",
   "execution_count": null,
   "metadata": {
    "collapsed": false,
    "deletable": true,
    "editable": true
   },
   "outputs": [],
   "source": [
    "visualize_image(model, image)"
   ]
  },
  {
   "cell_type": "markdown",
   "metadata": {
    "deletable": true,
    "editable": true
   },
   "source": [
    "## Level 4 - Use Your Conv Function to visualize the image"
   ]
  },
  {
   "cell_type": "markdown",
   "metadata": {
    "deletable": true,
    "editable": true
   },
   "source": [
    "### Question 1 - Call your function to perform conv and plot the image obatined "
   ]
  },
  {
   "cell_type": "markdown",
   "metadata": {
    "deletable": true,
    "editable": true
   },
   "source": [
    "## 10x10 Kernel Convimage"
   ]
  },
  {
   "cell_type": "code",
   "execution_count": null,
   "metadata": {
    "collapsed": false,
    "deletable": true,
    "editable": true
   },
   "outputs": [],
   "source": [
    "model = Sequential()\n",
    "model.add(Convolution2D(3,    \n",
    "                        (10,    \n",
    "                        10),    \n",
    "                        input_shape=image.shape))\n",
    "\n",
    "\n",
    "visualize_image(model, image)"
   ]
  },
  {
   "cell_type": "markdown",
   "metadata": {
    "deletable": true,
    "editable": true
   },
   "source": [
    "## Level 5"
   ]
  },
  {
   "cell_type": "markdown",
   "metadata": {
    "deletable": true,
    "editable": true
   },
   "source": [
    "### Question 1"
   ]
  },
  {
   "cell_type": "markdown",
   "metadata": {
    "deletable": true,
    "editable": true
   },
   "source": [
    "### What difference you notice between 3\\*3 and 10\\*10 kernal size ? "
   ]
  },
  {
   "cell_type": "markdown",
   "metadata": {
    "deletable": true,
    "editable": true
   },
   "source": [
    "Answer - "
   ]
  },
  {
   "cell_type": "markdown",
   "metadata": {
    "deletable": true,
    "editable": true
   },
   "source": [
    "### Question 2"
   ]
  },
  {
   "cell_type": "markdown",
   "metadata": {
    "deletable": true,
    "editable": true
   },
   "source": [
    "### What is the reason behing this difference ?"
   ]
  },
  {
   "cell_type": "markdown",
   "metadata": {
    "deletable": true,
    "editable": true
   },
   "source": [
    "Answer -"
   ]
  },
  {
   "cell_type": "markdown",
   "metadata": {
    "deletable": true,
    "editable": true
   },
   "source": [
    "# Play around with code below, to enhance your understading"
   ]
  },
  {
   "cell_type": "markdown",
   "metadata": {
    "deletable": true,
    "editable": true
   },
   "source": [
    "## Another image Vis "
   ]
  },
  {
   "cell_type": "code",
   "execution_count": null,
   "metadata": {
    "collapsed": true,
    "deletable": true,
    "editable": true
   },
   "outputs": [],
   "source": [
    "# Note: matplot lib is pretty inconsistent with how it plots these weird image arrays.\n",
    "\n",
    "def nice_image_printer(model, image):\n",
    "    '''prints the image as a 2d array'''\n",
    "    image_batch = np.expand_dims(image,axis=0)\n",
    "    conv_image2 = model.predict(image_batch)\n",
    "\n",
    "    conv_image2 = np.squeeze(conv_image2, axis=0)\n",
    "    print (conv_image2.shape)\n",
    "    conv_image2 = conv_image2.reshape(conv_image2.shape[:2])\n",
    "\n",
    "    print (conv_image2.shape)\n",
    "    plt.imshow(conv_image2)"
   ]
  },
  {
   "cell_type": "code",
   "execution_count": null,
   "metadata": {
    "collapsed": true,
    "deletable": true,
    "editable": true
   },
   "outputs": [],
   "source": [
    "model = Sequential()\n",
    "model.add(Convolution2D(1,    \n",
    "                        (3,    \n",
    "                        3),    \n",
    "                        input_shape=image.shape))"
   ]
  },
  {
   "cell_type": "code",
   "execution_count": null,
   "metadata": {
    "collapsed": false,
    "deletable": true,
    "editable": true
   },
   "outputs": [],
   "source": [
    "nice_image_printer(model, image)"
   ]
  },
  {
   "cell_type": "markdown",
   "metadata": {
    "deletable": true,
    "editable": true
   },
   "source": [
    "### Question 3"
   ]
  },
  {
   "cell_type": "markdown",
   "metadata": {
    "deletable": true,
    "editable": true
   },
   "source": [
    "### Why this image is different from previous one ?"
   ]
  },
  {
   "cell_type": "markdown",
   "metadata": {
    "deletable": true,
    "editable": true
   },
   "source": [
    "Answer"
   ]
  },
  {
   "cell_type": "markdown",
   "metadata": {
    "deletable": true,
    "editable": true
   },
   "source": [
    "## Increase the kernal size"
   ]
  },
  {
   "cell_type": "code",
   "execution_count": null,
   "metadata": {
    "collapsed": false,
    "deletable": true,
    "editable": true
   },
   "outputs": [],
   "source": [
    "# 15x15 kernel size\n",
    "model = Sequential()\n",
    "model.add(Convolution2D(1,    \n",
    "                        (15,    \n",
    "                        15),   \n",
    "                        input_shape=image.shape))\n",
    "\n",
    "nice_image_printer(model, image)"
   ]
  },
  {
   "cell_type": "markdown",
   "metadata": {
    "deletable": true,
    "editable": true
   },
   "source": [
    "## Adding a Relu Activation"
   ]
  },
  {
   "cell_type": "code",
   "execution_count": null,
   "metadata": {
    "collapsed": true,
    "deletable": true,
    "editable": true
   },
   "outputs": [],
   "source": [
    "model = Sequential()\n",
    "model.add(Convolution2D(1,    \n",
    "                        (3,    \n",
    "                        3),    \n",
    "                        input_shape=image.shape))\n",
    "# Lets add a new activation layer!\n",
    "model.add(Activation('relu'))\n",
    "\n"
   ]
  },
  {
   "cell_type": "code",
   "execution_count": null,
   "metadata": {
    "collapsed": false,
    "deletable": true,
    "editable": true
   },
   "outputs": [],
   "source": [
    "nice_image_printer(model, image)"
   ]
  },
  {
   "cell_type": "markdown",
   "metadata": {
    "deletable": true,
    "editable": true
   },
   "source": [
    "## Adding a Max pool After Relu"
   ]
  },
  {
   "cell_type": "code",
   "execution_count": null,
   "metadata": {
    "collapsed": false,
    "deletable": true,
    "editable": true
   },
   "outputs": [],
   "source": [
    "model = Sequential()\n",
    "model.add(Convolution2D(3,    \n",
    "                        (3,    \n",
    "                        3),    \n",
    "                        input_shape=image.shape))\n",
    "model.add(Activation('relu'))\n",
    "model.add(MaxPooling2D(pool_size=(5,5)))\n",
    "\n",
    "visualize_image(model, image)"
   ]
  },
  {
   "cell_type": "code",
   "execution_count": null,
   "metadata": {
    "collapsed": true,
    "deletable": true,
    "editable": true
   },
   "outputs": [],
   "source": []
  }
 ],
 "metadata": {
  "kernelspec": {
   "display_name": "Python 3",
   "language": "python",
   "name": "python3"
  },
  "language_info": {
   "codemirror_mode": {
    "name": "ipython",
    "version": 3
   },
   "file_extension": ".py",
   "mimetype": "text/x-python",
   "name": "python",
   "nbconvert_exporter": "python",
   "pygments_lexer": "ipython3",
   "version": "3.5.2"
  }
 },
 "nbformat": 4,
 "nbformat_minor": 2
}
